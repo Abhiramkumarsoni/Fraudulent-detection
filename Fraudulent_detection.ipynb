{
  "cells": [
    {
      "cell_type": "markdown",
      "metadata": {
        "id": "pNcXwOEd33Bv"
      },
      "source": [
        "Importing Libraries:Let's import some useful library\n"
      ]
    },
    {
      "cell_type": "code",
      "execution_count": null,
      "metadata": {
        "id": "yMAvX_3p3neV"
      },
      "outputs": [],
      "source": [
        "import pandas as pd\n",
        "import numpy as np\n",
        "from sklearn.model_selection import train_test_split\n",
        "from sklearn.ensemble import RandomForestClassifier\n",
        "from sklearn.metrics import classification_report, roc_auc_score, confusion_matrix\n",
        "import matplotlib.pyplot as plt\n",
        "import seaborn as sns"
      ]
    },
    {
      "cell_type": "markdown",
      "metadata": {
        "id": "lOORb4aH6oqx"
      },
      "source": [
        "importing data"
      ]
    },
    {
      "cell_type": "code",
      "execution_count": null,
      "metadata": {
        "id": "NZ-e_ZBy7YVm"
      },
      "outputs": [],
      "source": [
        "#import this data_file and put into variable called data\n",
        "data=pd.read_csv('/content/Fraud.csv')\n",
        "# let's copy data into df variable\n",
        "df=data.copy()"
      ]
    },
    {
      "cell_type": "markdown",
      "metadata": {
        "id": "uSm216fz8bef"
      },
      "source": [
        "#let's understand the data"
      ]
    },
    {
      "cell_type": "markdown",
      "metadata": {
        "id": "6P_kpmAr-e0J"
      },
      "source": [
        "step - maps a unit of time in the real world. In this case 1 step is 1 hour of time. Total steps 744 (30 days simulation).\n",
        "\n",
        "type - CASH-IN, CASH-OUT, DEBIT, PAYMENT and TRANSFER.\n",
        "\n",
        "amount - amount of the transaction in local currency.\n",
        "\n",
        "nameOrig - customer who started the transaction\n",
        "\n",
        "oldbalanceOrg - initial balance before the transaction\n",
        "\n",
        "newbalanceOrig - new balance after the transaction\n",
        "\n",
        "nameDest - customer who is the recipient of the transaction\n",
        "\n",
        "oldbalanceDest - initial balance recipient before the transaction. Note that there is not information for customers that start with M (Merchants).\n",
        "\n",
        "newbalanceDest - new balance recipient after the transaction. Note that there is not information for customers that start with M (Merchants).\n",
        "\n",
        "isFraud - This is the transactions made by the fraudulent agents inside the simulation. In this specific dataset the fraudulent behavior of the agents aims to profit by taking control or customers accounts and try to empty the funds by transferring to another account and then cashing out of the system.\n",
        "\n",
        "isFlaggedFraud - The business model aims to control massive transfers from one account to another and flags illegal attempts. An illegal attempt in this dataset is an attempt to transfer more than 200.000 in a single transaction."
      ]
    },
    {
      "cell_type": "code",
      "execution_count": null,
      "metadata": {
        "colab": {
          "base_uri": "https://localhost:8080/",
          "height": 226
        },
        "id": "98Ahw2Pv8fnW",
        "outputId": "e4ab511a-2b93-414a-b6b1-b94fb8f45c9c"
      },
      "outputs": [
        {
          "output_type": "execute_result",
          "data": {
            "text/plain": [
              "   step      type    amount     nameOrig  oldbalanceOrg  newbalanceOrig  \\\n",
              "0     1   PAYMENT   9839.64  C1231006815       170136.0       160296.36   \n",
              "1     1   PAYMENT   1864.28  C1666544295        21249.0        19384.72   \n",
              "2     1  TRANSFER    181.00  C1305486145          181.0            0.00   \n",
              "3     1  CASH_OUT    181.00   C840083671          181.0            0.00   \n",
              "4     1   PAYMENT  11668.14  C2048537720        41554.0        29885.86   \n",
              "\n",
              "      nameDest  oldbalanceDest  newbalanceDest  isFraud  isFlaggedFraud  \n",
              "0  M1979787155             0.0             0.0      0.0             0.0  \n",
              "1  M2044282225             0.0             0.0      0.0             0.0  \n",
              "2   C553264065             0.0             0.0      1.0             0.0  \n",
              "3    C38997010         21182.0             0.0      1.0             0.0  \n",
              "4  M1230701703             0.0             0.0      0.0             0.0  "
            ],
            "text/html": [
              "\n",
              "  <div id=\"df-937941ab-ed2e-458e-af48-ed425956a04a\" class=\"colab-df-container\">\n",
              "    <div>\n",
              "<style scoped>\n",
              "    .dataframe tbody tr th:only-of-type {\n",
              "        vertical-align: middle;\n",
              "    }\n",
              "\n",
              "    .dataframe tbody tr th {\n",
              "        vertical-align: top;\n",
              "    }\n",
              "\n",
              "    .dataframe thead th {\n",
              "        text-align: right;\n",
              "    }\n",
              "</style>\n",
              "<table border=\"1\" class=\"dataframe\">\n",
              "  <thead>\n",
              "    <tr style=\"text-align: right;\">\n",
              "      <th></th>\n",
              "      <th>step</th>\n",
              "      <th>type</th>\n",
              "      <th>amount</th>\n",
              "      <th>nameOrig</th>\n",
              "      <th>oldbalanceOrg</th>\n",
              "      <th>newbalanceOrig</th>\n",
              "      <th>nameDest</th>\n",
              "      <th>oldbalanceDest</th>\n",
              "      <th>newbalanceDest</th>\n",
              "      <th>isFraud</th>\n",
              "      <th>isFlaggedFraud</th>\n",
              "    </tr>\n",
              "  </thead>\n",
              "  <tbody>\n",
              "    <tr>\n",
              "      <th>0</th>\n",
              "      <td>1</td>\n",
              "      <td>PAYMENT</td>\n",
              "      <td>9839.64</td>\n",
              "      <td>C1231006815</td>\n",
              "      <td>170136.0</td>\n",
              "      <td>160296.36</td>\n",
              "      <td>M1979787155</td>\n",
              "      <td>0.0</td>\n",
              "      <td>0.0</td>\n",
              "      <td>0.0</td>\n",
              "      <td>0.0</td>\n",
              "    </tr>\n",
              "    <tr>\n",
              "      <th>1</th>\n",
              "      <td>1</td>\n",
              "      <td>PAYMENT</td>\n",
              "      <td>1864.28</td>\n",
              "      <td>C1666544295</td>\n",
              "      <td>21249.0</td>\n",
              "      <td>19384.72</td>\n",
              "      <td>M2044282225</td>\n",
              "      <td>0.0</td>\n",
              "      <td>0.0</td>\n",
              "      <td>0.0</td>\n",
              "      <td>0.0</td>\n",
              "    </tr>\n",
              "    <tr>\n",
              "      <th>2</th>\n",
              "      <td>1</td>\n",
              "      <td>TRANSFER</td>\n",
              "      <td>181.00</td>\n",
              "      <td>C1305486145</td>\n",
              "      <td>181.0</td>\n",
              "      <td>0.00</td>\n",
              "      <td>C553264065</td>\n",
              "      <td>0.0</td>\n",
              "      <td>0.0</td>\n",
              "      <td>1.0</td>\n",
              "      <td>0.0</td>\n",
              "    </tr>\n",
              "    <tr>\n",
              "      <th>3</th>\n",
              "      <td>1</td>\n",
              "      <td>CASH_OUT</td>\n",
              "      <td>181.00</td>\n",
              "      <td>C840083671</td>\n",
              "      <td>181.0</td>\n",
              "      <td>0.00</td>\n",
              "      <td>C38997010</td>\n",
              "      <td>21182.0</td>\n",
              "      <td>0.0</td>\n",
              "      <td>1.0</td>\n",
              "      <td>0.0</td>\n",
              "    </tr>\n",
              "    <tr>\n",
              "      <th>4</th>\n",
              "      <td>1</td>\n",
              "      <td>PAYMENT</td>\n",
              "      <td>11668.14</td>\n",
              "      <td>C2048537720</td>\n",
              "      <td>41554.0</td>\n",
              "      <td>29885.86</td>\n",
              "      <td>M1230701703</td>\n",
              "      <td>0.0</td>\n",
              "      <td>0.0</td>\n",
              "      <td>0.0</td>\n",
              "      <td>0.0</td>\n",
              "    </tr>\n",
              "  </tbody>\n",
              "</table>\n",
              "</div>\n",
              "    <div class=\"colab-df-buttons\">\n",
              "\n",
              "  <div class=\"colab-df-container\">\n",
              "    <button class=\"colab-df-convert\" onclick=\"convertToInteractive('df-937941ab-ed2e-458e-af48-ed425956a04a')\"\n",
              "            title=\"Convert this dataframe to an interactive table.\"\n",
              "            style=\"display:none;\">\n",
              "\n",
              "  <svg xmlns=\"http://www.w3.org/2000/svg\" height=\"24px\" viewBox=\"0 -960 960 960\">\n",
              "    <path d=\"M120-120v-720h720v720H120Zm60-500h600v-160H180v160Zm220 220h160v-160H400v160Zm0 220h160v-160H400v160ZM180-400h160v-160H180v160Zm440 0h160v-160H620v160ZM180-180h160v-160H180v160Zm440 0h160v-160H620v160Z\"/>\n",
              "  </svg>\n",
              "    </button>\n",
              "\n",
              "  <style>\n",
              "    .colab-df-container {\n",
              "      display:flex;\n",
              "      gap: 12px;\n",
              "    }\n",
              "\n",
              "    .colab-df-convert {\n",
              "      background-color: #E8F0FE;\n",
              "      border: none;\n",
              "      border-radius: 50%;\n",
              "      cursor: pointer;\n",
              "      display: none;\n",
              "      fill: #1967D2;\n",
              "      height: 32px;\n",
              "      padding: 0 0 0 0;\n",
              "      width: 32px;\n",
              "    }\n",
              "\n",
              "    .colab-df-convert:hover {\n",
              "      background-color: #E2EBFA;\n",
              "      box-shadow: 0px 1px 2px rgba(60, 64, 67, 0.3), 0px 1px 3px 1px rgba(60, 64, 67, 0.15);\n",
              "      fill: #174EA6;\n",
              "    }\n",
              "\n",
              "    .colab-df-buttons div {\n",
              "      margin-bottom: 4px;\n",
              "    }\n",
              "\n",
              "    [theme=dark] .colab-df-convert {\n",
              "      background-color: #3B4455;\n",
              "      fill: #D2E3FC;\n",
              "    }\n",
              "\n",
              "    [theme=dark] .colab-df-convert:hover {\n",
              "      background-color: #434B5C;\n",
              "      box-shadow: 0px 1px 3px 1px rgba(0, 0, 0, 0.15);\n",
              "      filter: drop-shadow(0px 1px 2px rgba(0, 0, 0, 0.3));\n",
              "      fill: #FFFFFF;\n",
              "    }\n",
              "  </style>\n",
              "\n",
              "    <script>\n",
              "      const buttonEl =\n",
              "        document.querySelector('#df-937941ab-ed2e-458e-af48-ed425956a04a button.colab-df-convert');\n",
              "      buttonEl.style.display =\n",
              "        google.colab.kernel.accessAllowed ? 'block' : 'none';\n",
              "\n",
              "      async function convertToInteractive(key) {\n",
              "        const element = document.querySelector('#df-937941ab-ed2e-458e-af48-ed425956a04a');\n",
              "        const dataTable =\n",
              "          await google.colab.kernel.invokeFunction('convertToInteractive',\n",
              "                                                    [key], {});\n",
              "        if (!dataTable) return;\n",
              "\n",
              "        const docLinkHtml = 'Like what you see? Visit the ' +\n",
              "          '<a target=\"_blank\" href=https://colab.research.google.com/notebooks/data_table.ipynb>data table notebook</a>'\n",
              "          + ' to learn more about interactive tables.';\n",
              "        element.innerHTML = '';\n",
              "        dataTable['output_type'] = 'display_data';\n",
              "        await google.colab.output.renderOutput(dataTable, element);\n",
              "        const docLink = document.createElement('div');\n",
              "        docLink.innerHTML = docLinkHtml;\n",
              "        element.appendChild(docLink);\n",
              "      }\n",
              "    </script>\n",
              "  </div>\n",
              "\n",
              "\n",
              "<div id=\"df-82c28f50-b95b-480a-9f48-48b2607289c1\">\n",
              "  <button class=\"colab-df-quickchart\" onclick=\"quickchart('df-82c28f50-b95b-480a-9f48-48b2607289c1')\"\n",
              "            title=\"Suggest charts\"\n",
              "            style=\"display:none;\">\n",
              "\n",
              "<svg xmlns=\"http://www.w3.org/2000/svg\" height=\"24px\"viewBox=\"0 0 24 24\"\n",
              "     width=\"24px\">\n",
              "    <g>\n",
              "        <path d=\"M19 3H5c-1.1 0-2 .9-2 2v14c0 1.1.9 2 2 2h14c1.1 0 2-.9 2-2V5c0-1.1-.9-2-2-2zM9 17H7v-7h2v7zm4 0h-2V7h2v10zm4 0h-2v-4h2v4z\"/>\n",
              "    </g>\n",
              "</svg>\n",
              "  </button>\n",
              "\n",
              "<style>\n",
              "  .colab-df-quickchart {\n",
              "      --bg-color: #E8F0FE;\n",
              "      --fill-color: #1967D2;\n",
              "      --hover-bg-color: #E2EBFA;\n",
              "      --hover-fill-color: #174EA6;\n",
              "      --disabled-fill-color: #AAA;\n",
              "      --disabled-bg-color: #DDD;\n",
              "  }\n",
              "\n",
              "  [theme=dark] .colab-df-quickchart {\n",
              "      --bg-color: #3B4455;\n",
              "      --fill-color: #D2E3FC;\n",
              "      --hover-bg-color: #434B5C;\n",
              "      --hover-fill-color: #FFFFFF;\n",
              "      --disabled-bg-color: #3B4455;\n",
              "      --disabled-fill-color: #666;\n",
              "  }\n",
              "\n",
              "  .colab-df-quickchart {\n",
              "    background-color: var(--bg-color);\n",
              "    border: none;\n",
              "    border-radius: 50%;\n",
              "    cursor: pointer;\n",
              "    display: none;\n",
              "    fill: var(--fill-color);\n",
              "    height: 32px;\n",
              "    padding: 0;\n",
              "    width: 32px;\n",
              "  }\n",
              "\n",
              "  .colab-df-quickchart:hover {\n",
              "    background-color: var(--hover-bg-color);\n",
              "    box-shadow: 0 1px 2px rgba(60, 64, 67, 0.3), 0 1px 3px 1px rgba(60, 64, 67, 0.15);\n",
              "    fill: var(--button-hover-fill-color);\n",
              "  }\n",
              "\n",
              "  .colab-df-quickchart-complete:disabled,\n",
              "  .colab-df-quickchart-complete:disabled:hover {\n",
              "    background-color: var(--disabled-bg-color);\n",
              "    fill: var(--disabled-fill-color);\n",
              "    box-shadow: none;\n",
              "  }\n",
              "\n",
              "  .colab-df-spinner {\n",
              "    border: 2px solid var(--fill-color);\n",
              "    border-color: transparent;\n",
              "    border-bottom-color: var(--fill-color);\n",
              "    animation:\n",
              "      spin 1s steps(1) infinite;\n",
              "  }\n",
              "\n",
              "  @keyframes spin {\n",
              "    0% {\n",
              "      border-color: transparent;\n",
              "      border-bottom-color: var(--fill-color);\n",
              "      border-left-color: var(--fill-color);\n",
              "    }\n",
              "    20% {\n",
              "      border-color: transparent;\n",
              "      border-left-color: var(--fill-color);\n",
              "      border-top-color: var(--fill-color);\n",
              "    }\n",
              "    30% {\n",
              "      border-color: transparent;\n",
              "      border-left-color: var(--fill-color);\n",
              "      border-top-color: var(--fill-color);\n",
              "      border-right-color: var(--fill-color);\n",
              "    }\n",
              "    40% {\n",
              "      border-color: transparent;\n",
              "      border-right-color: var(--fill-color);\n",
              "      border-top-color: var(--fill-color);\n",
              "    }\n",
              "    60% {\n",
              "      border-color: transparent;\n",
              "      border-right-color: var(--fill-color);\n",
              "    }\n",
              "    80% {\n",
              "      border-color: transparent;\n",
              "      border-right-color: var(--fill-color);\n",
              "      border-bottom-color: var(--fill-color);\n",
              "    }\n",
              "    90% {\n",
              "      border-color: transparent;\n",
              "      border-bottom-color: var(--fill-color);\n",
              "    }\n",
              "  }\n",
              "</style>\n",
              "\n",
              "  <script>\n",
              "    async function quickchart(key) {\n",
              "      const quickchartButtonEl =\n",
              "        document.querySelector('#' + key + ' button');\n",
              "      quickchartButtonEl.disabled = true;  // To prevent multiple clicks.\n",
              "      quickchartButtonEl.classList.add('colab-df-spinner');\n",
              "      try {\n",
              "        const charts = await google.colab.kernel.invokeFunction(\n",
              "            'suggestCharts', [key], {});\n",
              "      } catch (error) {\n",
              "        console.error('Error during call to suggestCharts:', error);\n",
              "      }\n",
              "      quickchartButtonEl.classList.remove('colab-df-spinner');\n",
              "      quickchartButtonEl.classList.add('colab-df-quickchart-complete');\n",
              "    }\n",
              "    (() => {\n",
              "      let quickchartButtonEl =\n",
              "        document.querySelector('#df-82c28f50-b95b-480a-9f48-48b2607289c1 button');\n",
              "      quickchartButtonEl.style.display =\n",
              "        google.colab.kernel.accessAllowed ? 'block' : 'none';\n",
              "    })();\n",
              "  </script>\n",
              "</div>\n",
              "\n",
              "    </div>\n",
              "  </div>\n"
            ],
            "application/vnd.google.colaboratory.intrinsic+json": {
              "type": "dataframe",
              "variable_name": "df"
            }
          },
          "metadata": {},
          "execution_count": 4
        }
      ],
      "source": [
        "df.head()"
      ]
    },
    {
      "cell_type": "code",
      "execution_count": null,
      "metadata": {
        "colab": {
          "base_uri": "https://localhost:8080/"
        },
        "id": "_vnq5lVf8oqi",
        "outputId": "66bf17ea-0de2-4d16-b5ca-20d4551561cb"
      },
      "outputs": [
        {
          "output_type": "stream",
          "name": "stdout",
          "text": [
            "<class 'pandas.core.frame.DataFrame'>\n",
            "RangeIndex: 110813 entries, 0 to 110812\n",
            "Data columns (total 11 columns):\n",
            " #   Column          Non-Null Count   Dtype  \n",
            "---  ------          --------------   -----  \n",
            " 0   step            110813 non-null  int64  \n",
            " 1   type            110813 non-null  object \n",
            " 2   amount          110813 non-null  float64\n",
            " 3   nameOrig        110813 non-null  object \n",
            " 4   oldbalanceOrg   110813 non-null  float64\n",
            " 5   newbalanceOrig  110813 non-null  float64\n",
            " 6   nameDest        110813 non-null  object \n",
            " 7   oldbalanceDest  110813 non-null  float64\n",
            " 8   newbalanceDest  110812 non-null  float64\n",
            " 9   isFraud         110812 non-null  float64\n",
            " 10  isFlaggedFraud  110812 non-null  float64\n",
            "dtypes: float64(7), int64(1), object(3)\n",
            "memory usage: 9.3+ MB\n"
          ]
        }
      ],
      "source": [
        "df.info()"
      ]
    },
    {
      "cell_type": "code",
      "execution_count": null,
      "metadata": {
        "colab": {
          "base_uri": "https://localhost:8080/",
          "height": 320
        },
        "id": "46wIzgUF8yIt",
        "outputId": "590e7f99-069a-41c9-dbd6-8458cecd142b"
      },
      "outputs": [
        {
          "output_type": "execute_result",
          "data": {
            "text/plain": [
              "                   count          mean           std   min      25%       50%  \\\n",
              "step            110813.0  8.664958e+00  1.809812e+00  1.00      8.0      9.00   \n",
              "amount          110813.0  1.759051e+05  3.470360e+05  0.32  10234.7  55244.93   \n",
              "oldbalanceOrg   110813.0  8.941414e+05  2.779029e+06  0.00      0.0  20212.00   \n",
              "newbalanceOrig  110813.0  9.101840e+05  2.816472e+06  0.00      0.0      0.00   \n",
              "oldbalanceDest  110813.0  8.871676e+05  2.393870e+06  0.00      0.0  22901.03   \n",
              "newbalanceDest  110812.0  1.186291e+06  2.778425e+06  0.00      0.0  60556.30   \n",
              "isFraud         110812.0  1.082915e-03  3.289000e-02  0.00      0.0      0.00   \n",
              "isFlaggedFraud  110812.0  0.000000e+00  0.000000e+00  0.00      0.0      0.00   \n",
              "\n",
              "                       75%          max  \n",
              "step                 10.00        11.00  \n",
              "amount           214508.74  10000000.00  \n",
              "oldbalanceOrg    198574.00  38939424.03  \n",
              "newbalanceOrig   223915.43  38946233.02  \n",
              "oldbalanceDest   610300.47  34008736.98  \n",
              "newbalanceDest  1083857.51  38946233.02  \n",
              "isFraud               0.00         1.00  \n",
              "isFlaggedFraud        0.00         0.00  "
            ],
            "text/html": [
              "\n",
              "  <div id=\"df-563acdf4-5143-461b-95e7-33f980e963fe\" class=\"colab-df-container\">\n",
              "    <div>\n",
              "<style scoped>\n",
              "    .dataframe tbody tr th:only-of-type {\n",
              "        vertical-align: middle;\n",
              "    }\n",
              "\n",
              "    .dataframe tbody tr th {\n",
              "        vertical-align: top;\n",
              "    }\n",
              "\n",
              "    .dataframe thead th {\n",
              "        text-align: right;\n",
              "    }\n",
              "</style>\n",
              "<table border=\"1\" class=\"dataframe\">\n",
              "  <thead>\n",
              "    <tr style=\"text-align: right;\">\n",
              "      <th></th>\n",
              "      <th>count</th>\n",
              "      <th>mean</th>\n",
              "      <th>std</th>\n",
              "      <th>min</th>\n",
              "      <th>25%</th>\n",
              "      <th>50%</th>\n",
              "      <th>75%</th>\n",
              "      <th>max</th>\n",
              "    </tr>\n",
              "  </thead>\n",
              "  <tbody>\n",
              "    <tr>\n",
              "      <th>step</th>\n",
              "      <td>110813.0</td>\n",
              "      <td>8.664958e+00</td>\n",
              "      <td>1.809812e+00</td>\n",
              "      <td>1.00</td>\n",
              "      <td>8.0</td>\n",
              "      <td>9.00</td>\n",
              "      <td>10.00</td>\n",
              "      <td>11.00</td>\n",
              "    </tr>\n",
              "    <tr>\n",
              "      <th>amount</th>\n",
              "      <td>110813.0</td>\n",
              "      <td>1.759051e+05</td>\n",
              "      <td>3.470360e+05</td>\n",
              "      <td>0.32</td>\n",
              "      <td>10234.7</td>\n",
              "      <td>55244.93</td>\n",
              "      <td>214508.74</td>\n",
              "      <td>10000000.00</td>\n",
              "    </tr>\n",
              "    <tr>\n",
              "      <th>oldbalanceOrg</th>\n",
              "      <td>110813.0</td>\n",
              "      <td>8.941414e+05</td>\n",
              "      <td>2.779029e+06</td>\n",
              "      <td>0.00</td>\n",
              "      <td>0.0</td>\n",
              "      <td>20212.00</td>\n",
              "      <td>198574.00</td>\n",
              "      <td>38939424.03</td>\n",
              "    </tr>\n",
              "    <tr>\n",
              "      <th>newbalanceOrig</th>\n",
              "      <td>110813.0</td>\n",
              "      <td>9.101840e+05</td>\n",
              "      <td>2.816472e+06</td>\n",
              "      <td>0.00</td>\n",
              "      <td>0.0</td>\n",
              "      <td>0.00</td>\n",
              "      <td>223915.43</td>\n",
              "      <td>38946233.02</td>\n",
              "    </tr>\n",
              "    <tr>\n",
              "      <th>oldbalanceDest</th>\n",
              "      <td>110813.0</td>\n",
              "      <td>8.871676e+05</td>\n",
              "      <td>2.393870e+06</td>\n",
              "      <td>0.00</td>\n",
              "      <td>0.0</td>\n",
              "      <td>22901.03</td>\n",
              "      <td>610300.47</td>\n",
              "      <td>34008736.98</td>\n",
              "    </tr>\n",
              "    <tr>\n",
              "      <th>newbalanceDest</th>\n",
              "      <td>110812.0</td>\n",
              "      <td>1.186291e+06</td>\n",
              "      <td>2.778425e+06</td>\n",
              "      <td>0.00</td>\n",
              "      <td>0.0</td>\n",
              "      <td>60556.30</td>\n",
              "      <td>1083857.51</td>\n",
              "      <td>38946233.02</td>\n",
              "    </tr>\n",
              "    <tr>\n",
              "      <th>isFraud</th>\n",
              "      <td>110812.0</td>\n",
              "      <td>1.082915e-03</td>\n",
              "      <td>3.289000e-02</td>\n",
              "      <td>0.00</td>\n",
              "      <td>0.0</td>\n",
              "      <td>0.00</td>\n",
              "      <td>0.00</td>\n",
              "      <td>1.00</td>\n",
              "    </tr>\n",
              "    <tr>\n",
              "      <th>isFlaggedFraud</th>\n",
              "      <td>110812.0</td>\n",
              "      <td>0.000000e+00</td>\n",
              "      <td>0.000000e+00</td>\n",
              "      <td>0.00</td>\n",
              "      <td>0.0</td>\n",
              "      <td>0.00</td>\n",
              "      <td>0.00</td>\n",
              "      <td>0.00</td>\n",
              "    </tr>\n",
              "  </tbody>\n",
              "</table>\n",
              "</div>\n",
              "    <div class=\"colab-df-buttons\">\n",
              "\n",
              "  <div class=\"colab-df-container\">\n",
              "    <button class=\"colab-df-convert\" onclick=\"convertToInteractive('df-563acdf4-5143-461b-95e7-33f980e963fe')\"\n",
              "            title=\"Convert this dataframe to an interactive table.\"\n",
              "            style=\"display:none;\">\n",
              "\n",
              "  <svg xmlns=\"http://www.w3.org/2000/svg\" height=\"24px\" viewBox=\"0 -960 960 960\">\n",
              "    <path d=\"M120-120v-720h720v720H120Zm60-500h600v-160H180v160Zm220 220h160v-160H400v160Zm0 220h160v-160H400v160ZM180-400h160v-160H180v160Zm440 0h160v-160H620v160ZM180-180h160v-160H180v160Zm440 0h160v-160H620v160Z\"/>\n",
              "  </svg>\n",
              "    </button>\n",
              "\n",
              "  <style>\n",
              "    .colab-df-container {\n",
              "      display:flex;\n",
              "      gap: 12px;\n",
              "    }\n",
              "\n",
              "    .colab-df-convert {\n",
              "      background-color: #E8F0FE;\n",
              "      border: none;\n",
              "      border-radius: 50%;\n",
              "      cursor: pointer;\n",
              "      display: none;\n",
              "      fill: #1967D2;\n",
              "      height: 32px;\n",
              "      padding: 0 0 0 0;\n",
              "      width: 32px;\n",
              "    }\n",
              "\n",
              "    .colab-df-convert:hover {\n",
              "      background-color: #E2EBFA;\n",
              "      box-shadow: 0px 1px 2px rgba(60, 64, 67, 0.3), 0px 1px 3px 1px rgba(60, 64, 67, 0.15);\n",
              "      fill: #174EA6;\n",
              "    }\n",
              "\n",
              "    .colab-df-buttons div {\n",
              "      margin-bottom: 4px;\n",
              "    }\n",
              "\n",
              "    [theme=dark] .colab-df-convert {\n",
              "      background-color: #3B4455;\n",
              "      fill: #D2E3FC;\n",
              "    }\n",
              "\n",
              "    [theme=dark] .colab-df-convert:hover {\n",
              "      background-color: #434B5C;\n",
              "      box-shadow: 0px 1px 3px 1px rgba(0, 0, 0, 0.15);\n",
              "      filter: drop-shadow(0px 1px 2px rgba(0, 0, 0, 0.3));\n",
              "      fill: #FFFFFF;\n",
              "    }\n",
              "  </style>\n",
              "\n",
              "    <script>\n",
              "      const buttonEl =\n",
              "        document.querySelector('#df-563acdf4-5143-461b-95e7-33f980e963fe button.colab-df-convert');\n",
              "      buttonEl.style.display =\n",
              "        google.colab.kernel.accessAllowed ? 'block' : 'none';\n",
              "\n",
              "      async function convertToInteractive(key) {\n",
              "        const element = document.querySelector('#df-563acdf4-5143-461b-95e7-33f980e963fe');\n",
              "        const dataTable =\n",
              "          await google.colab.kernel.invokeFunction('convertToInteractive',\n",
              "                                                    [key], {});\n",
              "        if (!dataTable) return;\n",
              "\n",
              "        const docLinkHtml = 'Like what you see? Visit the ' +\n",
              "          '<a target=\"_blank\" href=https://colab.research.google.com/notebooks/data_table.ipynb>data table notebook</a>'\n",
              "          + ' to learn more about interactive tables.';\n",
              "        element.innerHTML = '';\n",
              "        dataTable['output_type'] = 'display_data';\n",
              "        await google.colab.output.renderOutput(dataTable, element);\n",
              "        const docLink = document.createElement('div');\n",
              "        docLink.innerHTML = docLinkHtml;\n",
              "        element.appendChild(docLink);\n",
              "      }\n",
              "    </script>\n",
              "  </div>\n",
              "\n",
              "\n",
              "<div id=\"df-7a3d4a2f-0083-4334-89e8-d50bbbbaffb4\">\n",
              "  <button class=\"colab-df-quickchart\" onclick=\"quickchart('df-7a3d4a2f-0083-4334-89e8-d50bbbbaffb4')\"\n",
              "            title=\"Suggest charts\"\n",
              "            style=\"display:none;\">\n",
              "\n",
              "<svg xmlns=\"http://www.w3.org/2000/svg\" height=\"24px\"viewBox=\"0 0 24 24\"\n",
              "     width=\"24px\">\n",
              "    <g>\n",
              "        <path d=\"M19 3H5c-1.1 0-2 .9-2 2v14c0 1.1.9 2 2 2h14c1.1 0 2-.9 2-2V5c0-1.1-.9-2-2-2zM9 17H7v-7h2v7zm4 0h-2V7h2v10zm4 0h-2v-4h2v4z\"/>\n",
              "    </g>\n",
              "</svg>\n",
              "  </button>\n",
              "\n",
              "<style>\n",
              "  .colab-df-quickchart {\n",
              "      --bg-color: #E8F0FE;\n",
              "      --fill-color: #1967D2;\n",
              "      --hover-bg-color: #E2EBFA;\n",
              "      --hover-fill-color: #174EA6;\n",
              "      --disabled-fill-color: #AAA;\n",
              "      --disabled-bg-color: #DDD;\n",
              "  }\n",
              "\n",
              "  [theme=dark] .colab-df-quickchart {\n",
              "      --bg-color: #3B4455;\n",
              "      --fill-color: #D2E3FC;\n",
              "      --hover-bg-color: #434B5C;\n",
              "      --hover-fill-color: #FFFFFF;\n",
              "      --disabled-bg-color: #3B4455;\n",
              "      --disabled-fill-color: #666;\n",
              "  }\n",
              "\n",
              "  .colab-df-quickchart {\n",
              "    background-color: var(--bg-color);\n",
              "    border: none;\n",
              "    border-radius: 50%;\n",
              "    cursor: pointer;\n",
              "    display: none;\n",
              "    fill: var(--fill-color);\n",
              "    height: 32px;\n",
              "    padding: 0;\n",
              "    width: 32px;\n",
              "  }\n",
              "\n",
              "  .colab-df-quickchart:hover {\n",
              "    background-color: var(--hover-bg-color);\n",
              "    box-shadow: 0 1px 2px rgba(60, 64, 67, 0.3), 0 1px 3px 1px rgba(60, 64, 67, 0.15);\n",
              "    fill: var(--button-hover-fill-color);\n",
              "  }\n",
              "\n",
              "  .colab-df-quickchart-complete:disabled,\n",
              "  .colab-df-quickchart-complete:disabled:hover {\n",
              "    background-color: var(--disabled-bg-color);\n",
              "    fill: var(--disabled-fill-color);\n",
              "    box-shadow: none;\n",
              "  }\n",
              "\n",
              "  .colab-df-spinner {\n",
              "    border: 2px solid var(--fill-color);\n",
              "    border-color: transparent;\n",
              "    border-bottom-color: var(--fill-color);\n",
              "    animation:\n",
              "      spin 1s steps(1) infinite;\n",
              "  }\n",
              "\n",
              "  @keyframes spin {\n",
              "    0% {\n",
              "      border-color: transparent;\n",
              "      border-bottom-color: var(--fill-color);\n",
              "      border-left-color: var(--fill-color);\n",
              "    }\n",
              "    20% {\n",
              "      border-color: transparent;\n",
              "      border-left-color: var(--fill-color);\n",
              "      border-top-color: var(--fill-color);\n",
              "    }\n",
              "    30% {\n",
              "      border-color: transparent;\n",
              "      border-left-color: var(--fill-color);\n",
              "      border-top-color: var(--fill-color);\n",
              "      border-right-color: var(--fill-color);\n",
              "    }\n",
              "    40% {\n",
              "      border-color: transparent;\n",
              "      border-right-color: var(--fill-color);\n",
              "      border-top-color: var(--fill-color);\n",
              "    }\n",
              "    60% {\n",
              "      border-color: transparent;\n",
              "      border-right-color: var(--fill-color);\n",
              "    }\n",
              "    80% {\n",
              "      border-color: transparent;\n",
              "      border-right-color: var(--fill-color);\n",
              "      border-bottom-color: var(--fill-color);\n",
              "    }\n",
              "    90% {\n",
              "      border-color: transparent;\n",
              "      border-bottom-color: var(--fill-color);\n",
              "    }\n",
              "  }\n",
              "</style>\n",
              "\n",
              "  <script>\n",
              "    async function quickchart(key) {\n",
              "      const quickchartButtonEl =\n",
              "        document.querySelector('#' + key + ' button');\n",
              "      quickchartButtonEl.disabled = true;  // To prevent multiple clicks.\n",
              "      quickchartButtonEl.classList.add('colab-df-spinner');\n",
              "      try {\n",
              "        const charts = await google.colab.kernel.invokeFunction(\n",
              "            'suggestCharts', [key], {});\n",
              "      } catch (error) {\n",
              "        console.error('Error during call to suggestCharts:', error);\n",
              "      }\n",
              "      quickchartButtonEl.classList.remove('colab-df-spinner');\n",
              "      quickchartButtonEl.classList.add('colab-df-quickchart-complete');\n",
              "    }\n",
              "    (() => {\n",
              "      let quickchartButtonEl =\n",
              "        document.querySelector('#df-7a3d4a2f-0083-4334-89e8-d50bbbbaffb4 button');\n",
              "      quickchartButtonEl.style.display =\n",
              "        google.colab.kernel.accessAllowed ? 'block' : 'none';\n",
              "    })();\n",
              "  </script>\n",
              "</div>\n",
              "\n",
              "    </div>\n",
              "  </div>\n"
            ],
            "application/vnd.google.colaboratory.intrinsic+json": {
              "type": "dataframe",
              "summary": "{\n  \"name\": \"df\",\n  \"rows\": 8,\n  \"fields\": [\n    {\n      \"column\": \"count\",\n      \"properties\": {\n        \"dtype\": \"number\",\n        \"std\": 0.5175491695067657,\n        \"min\": 110812.0,\n        \"max\": 110813.0,\n        \"num_unique_values\": 2,\n        \"samples\": [\n          110812.0,\n          110813.0\n        ],\n        \"semantic_type\": \"\",\n        \"description\": \"\"\n      }\n    },\n    {\n      \"column\": \"mean\",\n      \"properties\": {\n        \"dtype\": \"number\",\n        \"std\": 506974.2884376789,\n        \"min\": 0.0,\n        \"max\": 1186290.7230301772,\n        \"num_unique_values\": 8,\n        \"samples\": [\n          175905.06236181676,\n          1186290.7230301772\n        ],\n        \"semantic_type\": \"\",\n        \"description\": \"\"\n      }\n    },\n    {\n      \"column\": \"std\",\n      \"properties\": {\n        \"dtype\": \"number\",\n        \"std\": 1403249.6932301577,\n        \"min\": 0.0,\n        \"max\": 2816472.364015017,\n        \"num_unique_values\": 8,\n        \"samples\": [\n          347036.0120456976,\n          2778424.6076021707\n        ],\n        \"semantic_type\": \"\",\n        \"description\": \"\"\n      }\n    },\n    {\n      \"column\": \"min\",\n      \"properties\": {\n        \"dtype\": \"number\",\n        \"std\": 0.35548759271095326,\n        \"min\": 0.0,\n        \"max\": 1.0,\n        \"num_unique_values\": 3,\n        \"samples\": [\n          1.0,\n          0.32\n        ],\n        \"semantic_type\": \"\",\n        \"description\": \"\"\n      }\n    },\n    {\n      \"column\": \"25%\",\n      \"properties\": {\n        \"dtype\": \"number\",\n        \"std\": 3618.109908674694,\n        \"min\": 0.0,\n        \"max\": 10234.7,\n        \"num_unique_values\": 3,\n        \"samples\": [\n          8.0,\n          10234.7\n        ],\n        \"semantic_type\": \"\",\n        \"description\": \"\"\n      }\n    },\n    {\n      \"column\": \"50%\",\n      \"properties\": {\n        \"dtype\": \"number\",\n        \"std\": 25340.46633725633,\n        \"min\": 0.0,\n        \"max\": 60556.3,\n        \"num_unique_values\": 6,\n        \"samples\": [\n          9.0,\n          55244.93\n        ],\n        \"semantic_type\": \"\",\n        \"description\": \"\"\n      }\n    },\n    {\n      \"column\": \"75%\",\n      \"properties\": {\n        \"dtype\": \"number\",\n        \"std\": 378626.38316624507,\n        \"min\": 0.0,\n        \"max\": 1083857.51,\n        \"num_unique_values\": 7,\n        \"samples\": [\n          10.0,\n          214508.74\n        ],\n        \"semantic_type\": \"\",\n        \"description\": \"\"\n      }\n    },\n    {\n      \"column\": \"max\",\n      \"properties\": {\n        \"dtype\": \"number\",\n        \"std\": 19171322.226581078,\n        \"min\": 0.0,\n        \"max\": 38946233.02,\n        \"num_unique_values\": 7,\n        \"samples\": [\n          11.0,\n          10000000.0\n        ],\n        \"semantic_type\": \"\",\n        \"description\": \"\"\n      }\n    }\n  ]\n}"
            }
          },
          "metadata": {},
          "execution_count": 6
        }
      ],
      "source": [
        "#let's describe the data and transpose it in order to look better\n",
        "df.describe().T"
      ]
    },
    {
      "cell_type": "code",
      "execution_count": null,
      "metadata": {
        "colab": {
          "base_uri": "https://localhost:8080/",
          "height": 178
        },
        "id": "Matj-pdWRTDa",
        "outputId": "3dfeef25-b05e-411d-d7f8-c39fbafd682f"
      },
      "outputs": [
        {
          "output_type": "execute_result",
          "data": {
            "text/plain": [
              "isFraud\n",
              "0.0    110692\n",
              "1.0       120\n",
              "Name: count, dtype: int64"
            ],
            "text/html": [
              "<div>\n",
              "<style scoped>\n",
              "    .dataframe tbody tr th:only-of-type {\n",
              "        vertical-align: middle;\n",
              "    }\n",
              "\n",
              "    .dataframe tbody tr th {\n",
              "        vertical-align: top;\n",
              "    }\n",
              "\n",
              "    .dataframe thead th {\n",
              "        text-align: right;\n",
              "    }\n",
              "</style>\n",
              "<table border=\"1\" class=\"dataframe\">\n",
              "  <thead>\n",
              "    <tr style=\"text-align: right;\">\n",
              "      <th></th>\n",
              "      <th>count</th>\n",
              "    </tr>\n",
              "    <tr>\n",
              "      <th>isFraud</th>\n",
              "      <th></th>\n",
              "    </tr>\n",
              "  </thead>\n",
              "  <tbody>\n",
              "    <tr>\n",
              "      <th>0.0</th>\n",
              "      <td>110692</td>\n",
              "    </tr>\n",
              "    <tr>\n",
              "      <th>1.0</th>\n",
              "      <td>120</td>\n",
              "    </tr>\n",
              "  </tbody>\n",
              "</table>\n",
              "</div><br><label><b>dtype:</b> int64</label>"
            ]
          },
          "metadata": {},
          "execution_count": 7
        }
      ],
      "source": [
        "data['isFraud'].value_counts()\n"
      ]
    },
    {
      "cell_type": "code",
      "execution_count": null,
      "metadata": {
        "colab": {
          "base_uri": "https://localhost:8080/"
        },
        "id": "aLmdezeIEDv0",
        "outputId": "1f89201c-6b57-40f7-cbc4-3fc6baf2f868"
      },
      "outputs": [
        {
          "output_type": "execute_result",
          "data": {
            "text/plain": [
              "(110813, 11)"
            ]
          },
          "metadata": {},
          "execution_count": 8
        }
      ],
      "source": [
        "data.shape"
      ]
    },
    {
      "cell_type": "markdown",
      "metadata": {
        "id": "1H-t5TkdEKda"
      },
      "source": [
        "the given data consist of 1347669 rows and 11 columns\n"
      ]
    },
    {
      "cell_type": "code",
      "execution_count": null,
      "metadata": {
        "colab": {
          "base_uri": "https://localhost:8080/"
        },
        "id": "17zpem9V9eIm",
        "outputId": "1d631873-8f0a-4983-8b71-bd2061c97247"
      },
      "outputs": [
        {
          "output_type": "stream",
          "name": "stdout",
          "text": [
            "Categorical variables: 3\n",
            "Integer variables: 1\n",
            "Float variables: 7\n"
          ]
        }
      ],
      "source": [
        "#Let’s count the columns with different datatypes like Category, Integer, Float.\n",
        "obj = (df.dtypes == 'object')\n",
        "object_cols = list(obj[obj].index)\n",
        "print(\"Categorical variables:\", len(object_cols))\n",
        "\n",
        "int_ = (df.dtypes == 'int')\n",
        "num_cols = list(int_[int_].index)\n",
        "print(\"Integer variables:\", len(num_cols))\n",
        "\n",
        "fl = (df.dtypes == 'float')\n",
        "fl_cols = list(fl[fl].index)\n",
        "print(\"Float variables:\", len(fl_cols))\n"
      ]
    },
    {
      "cell_type": "markdown",
      "metadata": {
        "id": "Vhi8gO7BEYwF"
      },
      "source": [
        "there are 3 categorical variable 1 integer variable and 7 float varible in the dataset\n"
      ]
    },
    {
      "cell_type": "code",
      "execution_count": null,
      "metadata": {
        "colab": {
          "base_uri": "https://localhost:8080/",
          "height": 466
        },
        "id": "hsIjBeqgP7tY",
        "outputId": "2c6c1ab3-be87-4c9f-cb02-4df95abae0db"
      },
      "outputs": [
        {
          "output_type": "execute_result",
          "data": {
            "text/plain": [
              "<Axes: xlabel='type', ylabel='amount'>"
            ]
          },
          "metadata": {},
          "execution_count": 10
        },
        {
          "output_type": "display_data",
          "data": {
            "text/plain": [
              "<Figure size 640x480 with 1 Axes>"
            ],
            "image/png": "[encoded data removed]"
          },
          "metadata": {}
        }
      ],
      "source": [
        "sns.barplot(x='type', y='amount', data=data)\n"
      ]
    },
    {
      "cell_type": "code",
      "execution_count": null,
      "metadata": {
        "colab": {
          "base_uri": "https://localhost:8080/",
          "height": 466
        },
        "id": "M0AND1WRQFh6",
        "outputId": "3437561d-ca28-465e-e69b-585bd4693826"
      },
      "outputs": [
        {
          "output_type": "execute_result",
          "data": {
            "text/plain": [
              "<Axes: xlabel='type', ylabel='count'>"
            ]
          },
          "metadata": {},
          "execution_count": 11
        },
        {
          "output_type": "display_data",
          "data": {
            "text/plain": [
              "<Figure size 640x480 with 1 Axes>"
            ],
            "image/png": "[encoded data removed]"
          },
          "metadata": {}
        }
      ],
      "source": [
        "sns.countplot(x='type', data=data)\n"
      ]
    },
    {
      "cell_type": "markdown",
      "metadata": {
        "id": "8ocsomKw-1uD"
      },
      "source": [
        "[link text](https://)#Data preprocessing\n",
        "Data cleainig(Missing Values, Outliers, and Multi-collinearity): Handling Missing Values:\n",
        "checking for missing values. If there are any missing values, either impute them using methods like filling with 0, mean, or median, or drop the rows/columns depending on the situation."
      ]
    },
    {
      "cell_type": "markdown",
      "metadata": {
        "id": "W-TxY3wMLzO8"
      },
      "source": [
        "Handling missing value"
      ]
    },
    {
      "cell_type": "code",
      "execution_count": null,
      "metadata": {
        "colab": {
          "base_uri": "https://localhost:8080/",
          "height": 446
        },
        "id": "JhYIDa2P08yb",
        "outputId": "c40d4b1e-612e-4027-e13c-c1022cae2e4b"
      },
      "outputs": [
        {
          "output_type": "stream",
          "name": "stdout",
          "text": [
            "no of missing value in the column\n"
          ]
        },
        {
          "output_type": "execute_result",
          "data": {
            "text/plain": [
              "step              0\n",
              "type              0\n",
              "amount            0\n",
              "nameOrig          0\n",
              "oldbalanceOrg     0\n",
              "newbalanceOrig    0\n",
              "nameDest          0\n",
              "oldbalanceDest    0\n",
              "newbalanceDest    1\n",
              "isFraud           1\n",
              "isFlaggedFraud    1\n",
              "dtype: int64"
            ],
            "text/html": [
              "<div>\n",
              "<style scoped>\n",
              "    .dataframe tbody tr th:only-of-type {\n",
              "        vertical-align: middle;\n",
              "    }\n",
              "\n",
              "    .dataframe tbody tr th {\n",
              "        vertical-align: top;\n",
              "    }\n",
              "\n",
              "    .dataframe thead th {\n",
              "        text-align: right;\n",
              "    }\n",
              "</style>\n",
              "<table border=\"1\" class=\"dataframe\">\n",
              "  <thead>\n",
              "    <tr style=\"text-align: right;\">\n",
              "      <th></th>\n",
              "      <th>0</th>\n",
              "    </tr>\n",
              "  </thead>\n",
              "  <tbody>\n",
              "    <tr>\n",
              "      <th>step</th>\n",
              "      <td>0</td>\n",
              "    </tr>\n",
              "    <tr>\n",
              "      <th>type</th>\n",
              "      <td>0</td>\n",
              "    </tr>\n",
              "    <tr>\n",
              "      <th>amount</th>\n",
              "      <td>0</td>\n",
              "    </tr>\n",
              "    <tr>\n",
              "      <th>nameOrig</th>\n",
              "      <td>0</td>\n",
              "    </tr>\n",
              "    <tr>\n",
              "      <th>oldbalanceOrg</th>\n",
              "      <td>0</td>\n",
              "    </tr>\n",
              "    <tr>\n",
              "      <th>newbalanceOrig</th>\n",
              "      <td>0</td>\n",
              "    </tr>\n",
              "    <tr>\n",
              "      <th>nameDest</th>\n",
              "      <td>0</td>\n",
              "    </tr>\n",
              "    <tr>\n",
              "      <th>oldbalanceDest</th>\n",
              "      <td>0</td>\n",
              "    </tr>\n",
              "    <tr>\n",
              "      <th>newbalanceDest</th>\n",
              "      <td>1</td>\n",
              "    </tr>\n",
              "    <tr>\n",
              "      <th>isFraud</th>\n",
              "      <td>1</td>\n",
              "    </tr>\n",
              "    <tr>\n",
              "      <th>isFlaggedFraud</th>\n",
              "      <td>1</td>\n",
              "    </tr>\n",
              "  </tbody>\n",
              "</table>\n",
              "</div><br><label><b>dtype:</b> int64</label>"
            ]
          },
          "metadata": {},
          "execution_count": 12
        }
      ],
      "source": [
        "print('no of missing value in the column')\n",
        "df.isnull().sum()"
      ]
    },
    {
      "cell_type": "code",
      "execution_count": null,
      "metadata": {
        "colab": {
          "base_uri": "https://localhost:8080/"
        },
        "id": "DGI9exGC-u-6",
        "outputId": "63783111-d6f1-4e4f-954c-9913cb7d7284"
      },
      "outputs": [
        {
          "output_type": "stream",
          "name": "stdout",
          "text": [
            "        step      type     amount     nameOrig  oldbalanceOrg  newbalanceOrig  \\\n",
            "110812    11  CASH_OUT  118777.61  C1510313227            0.0             0.0   \n",
            "\n",
            "          nameDest  oldbalanceDest  newbalanceDest  isFraud  isFlaggedFraud  \n",
            "110812  C601893033       1019293.0             NaN      NaN             NaN  \n"
          ]
        },
        {
          "output_type": "execute_result",
          "data": {
            "text/plain": [
              "Index([110812], dtype='int64')"
            ]
          },
          "metadata": {},
          "execution_count": 13
        }
      ],
      "source": [
        "# Find rows with missing values\n",
        "rows_with_missing_values = df[df.isnull().any(axis=1)]\n",
        "\n",
        "# Print the rows with missing values\n",
        "print(rows_with_missing_values)\n",
        "\n",
        "# Alternatively, you can get the row indices with missing values\n",
        "rows_with_missing_indices = df[df.isnull().any(axis=1)].index\n",
        "rows_with_missing_indices"
      ]
    },
    {
      "cell_type": "code",
      "execution_count": null,
      "metadata": {
        "colab": {
          "base_uri": "https://localhost:8080/"
        },
        "id": "VivqKW7rg-19",
        "outputId": "cefceba1-71a6-4de5-9496-c1532d8f3a35"
      },
      "outputs": [
        {
          "output_type": "execute_result",
          "data": {
            "text/plain": [
              "(110813, 11)"
            ]
          },
          "metadata": {},
          "execution_count": 14
        }
      ],
      "source": [
        "df.shape"
      ]
    },
    {
      "cell_type": "code",
      "execution_count": null,
      "metadata": {
        "colab": {
          "base_uri": "https://localhost:8080/"
        },
        "id": "Au6Xytdpgbgq",
        "outputId": "5422fe5b-8288-4888-fa35-a8d4fd388052"
      },
      "outputs": [
        {
          "output_type": "stream",
          "name": "stdout",
          "text": [
            "(110812, 11)\n"
          ]
        }
      ],
      "source": [
        "\n",
        "# Drop rows with missing values\n",
        "df = df.dropna()\n",
        "\n",
        "# Print the shape of the cleaned DataFrame\n",
        "print(df.shape)"
      ]
    },
    {
      "cell_type": "code",
      "execution_count": null,
      "metadata": {
        "colab": {
          "base_uri": "https://localhost:8080/"
        },
        "id": "aSyyB-85DC6d",
        "outputId": "a7216d77-6673-43ae-faa5-3b61eaeb5241"
      },
      "outputs": [
        {
          "output_type": "execute_result",
          "data": {
            "text/plain": [
              "(110812, 11)"
            ]
          },
          "metadata": {},
          "execution_count": 16
        }
      ],
      "source": [
        "df.shape"
      ]
    },
    {
      "cell_type": "code",
      "execution_count": null,
      "metadata": {
        "colab": {
          "base_uri": "https://localhost:8080/",
          "height": 429
        },
        "id": "VzWyt7PMCWka",
        "outputId": "446415c8-146d-4aee-9cad-dcbbf498b661"
      },
      "outputs": [
        {
          "output_type": "execute_result",
          "data": {
            "text/plain": [
              "step              0\n",
              "type              0\n",
              "amount            0\n",
              "nameOrig          0\n",
              "oldbalanceOrg     0\n",
              "newbalanceOrig    0\n",
              "nameDest          0\n",
              "oldbalanceDest    0\n",
              "newbalanceDest    0\n",
              "isFraud           0\n",
              "isFlaggedFraud    0\n",
              "dtype: int64"
            ],
            "text/html": [
              "<div>\n",
              "<style scoped>\n",
              "    .dataframe tbody tr th:only-of-type {\n",
              "        vertical-align: middle;\n",
              "    }\n",
              "\n",
              "    .dataframe tbody tr th {\n",
              "        vertical-align: top;\n",
              "    }\n",
              "\n",
              "    .dataframe thead th {\n",
              "        text-align: right;\n",
              "    }\n",
              "</style>\n",
              "<table border=\"1\" class=\"dataframe\">\n",
              "  <thead>\n",
              "    <tr style=\"text-align: right;\">\n",
              "      <th></th>\n",
              "      <th>0</th>\n",
              "    </tr>\n",
              "  </thead>\n",
              "  <tbody>\n",
              "    <tr>\n",
              "      <th>step</th>\n",
              "      <td>0</td>\n",
              "    </tr>\n",
              "    <tr>\n",
              "      <th>type</th>\n",
              "      <td>0</td>\n",
              "    </tr>\n",
              "    <tr>\n",
              "      <th>amount</th>\n",
              "      <td>0</td>\n",
              "    </tr>\n",
              "    <tr>\n",
              "      <th>nameOrig</th>\n",
              "      <td>0</td>\n",
              "    </tr>\n",
              "    <tr>\n",
              "      <th>oldbalanceOrg</th>\n",
              "      <td>0</td>\n",
              "    </tr>\n",
              "    <tr>\n",
              "      <th>newbalanceOrig</th>\n",
              "      <td>0</td>\n",
              "    </tr>\n",
              "    <tr>\n",
              "      <th>nameDest</th>\n",
              "      <td>0</td>\n",
              "    </tr>\n",
              "    <tr>\n",
              "      <th>oldbalanceDest</th>\n",
              "      <td>0</td>\n",
              "    </tr>\n",
              "    <tr>\n",
              "      <th>newbalanceDest</th>\n",
              "      <td>0</td>\n",
              "    </tr>\n",
              "    <tr>\n",
              "      <th>isFraud</th>\n",
              "      <td>0</td>\n",
              "    </tr>\n",
              "    <tr>\n",
              "      <th>isFlaggedFraud</th>\n",
              "      <td>0</td>\n",
              "    </tr>\n",
              "  </tbody>\n",
              "</table>\n",
              "</div><br><label><b>dtype:</b> int64</label>"
            ]
          },
          "metadata": {},
          "execution_count": 17
        }
      ],
      "source": [
        "df.isnull().sum()"
      ]
    },
    {
      "cell_type": "markdown",
      "metadata": {
        "id": "j-Jc3_B1L9lu"
      },
      "source": [
        "**Outlier Detection**"
      ]
    },
    {
      "cell_type": "code",
      "execution_count": null,
      "metadata": {
        "colab": {
          "base_uri": "https://localhost:8080/",
          "height": 472
        },
        "id": "vaFibUD6CYvU",
        "outputId": "ce51049c-de09-4b64-fe14-9db665b53a91"
      },
      "outputs": [
        {
          "output_type": "display_data",
          "data": {
            "text/plain": [
              "<Figure size 1500x500 with 3 Axes>"
            ],
            "image/png": "[encoded data removed]"
          },
          "metadata": {}
        },
        {
          "output_type": "display_data",
          "data": {
            "text/plain": [
              "<Figure size 1500x500 with 3 Axes>"
            ],
            "image/png": "[encoded data removed]"
          },
          "metadata": {}
        }
      ],
      "source": [
        "# prompt: Use visualization techniques like box plots and histograms to detect outliers, especially for continuous variables like amount, oldbalanceOrg, newbalanceOrig\n",
        "\n",
        "import matplotlib.pyplot as plt\n",
        "import seaborn as sns\n",
        "\n",
        "# Assuming your DataFrame is named 'df'\n",
        "\n",
        "# Box plots for 'amount', 'oldbalanceOrg', 'newbalanceOrig'\n",
        "plt.figure(figsize=(15, 5))\n",
        "plt.subplot(1, 3, 1)\n",
        "sns.boxplot(y=df['amount'])\n",
        "plt.title('Box Plot of Amount')\n",
        "\n",
        "plt.subplot(1, 3, 2)\n",
        "sns.boxplot(y=df['oldbalanceOrg'])\n",
        "plt.title('Box Plot of oldbalanceOrg')\n",
        "\n",
        "plt.subplot(1, 3, 3)\n",
        "sns.boxplot(y=df['newbalanceOrig'])\n",
        "plt.title('Box Plot of newbalanceOrig')\n",
        "\n",
        "plt.tight_layout()\n",
        "plt.show()\n",
        "\n",
        "# Histograms for 'amount', 'oldbalanceOrg', 'newbalanceOrig'\n",
        "plt.figure(figsize=(15, 5))\n",
        "plt.subplot(1, 3, 1)\n",
        "sns.histplot(df['amount'], kde=True)\n",
        "plt.title('Histogram of Amount')\n",
        "\n",
        "plt.subplot(1, 3, 2)\n",
        "sns.histplot(df['oldbalanceOrg'], kde=True)\n",
        "plt.title('Histogram of oldbalanceOrg')\n",
        "\n",
        "plt.subplot(1, 3, 3)\n",
        "sns.histplot(df['newbalanceOrig'], kde=True)\n",
        "plt.title('Histogram of newbalanceOrig')\n",
        "\n",
        "plt.tight_layout()\n",
        "plt.show()\n"
      ]
    },
    {
      "cell_type": "markdown",
      "metadata": {
        "id": "mqkAwHS2M4qs"
      },
      "source": [
        "Outliers could indicate fraudulent behavior (e.g., extremely high transaction amounts).\n"
      ]
    },
    {
      "cell_type": "code",
      "execution_count": null,
      "metadata": {
        "colab": {
          "base_uri": "https://localhost:8080/"
        },
        "id": "1wSDdz5yOHw8",
        "outputId": "4db6d19e-f122-4708-ff07-a1ed798d54e7"
      },
      "outputs": [
        {
          "output_type": "stream",
          "name": "stdout",
          "text": [
            "                oldbalanceOrg  newbalanceOrig  oldbalanceDest  newbalanceDest\n",
            "oldbalanceOrg        1.000000        0.998911        0.100822        0.070228\n",
            "newbalanceOrig       0.998911        1.000000        0.102394        0.069191\n",
            "oldbalanceDest       0.100822        0.102394        1.000000        0.940235\n",
            "newbalanceDest       0.070228        0.069191        0.940235        1.000000\n",
            "          feature         VIF\n",
            "0   oldbalanceOrg  519.238977\n",
            "1  newbalanceOrig  519.743173\n",
            "2  oldbalanceDest   10.049634\n",
            "3  newbalanceDest    9.971601\n"
          ]
        }
      ],
      "source": [
        "# prompt: Check if variables like oldbalanceOrg and newbalanceOrig or oldbalanceDest and newbalanceDest are highly correlated.\n",
        "# Use correlation matrix or Variance Inflation Factor (VIF) to detect multicollinearity, and remove or combine redundant variables if necessary.\n",
        "\n",
        "# Calculate the correlation matrix for the specified variables\n",
        "correlation_matrix = df[['oldbalanceOrg', 'newbalanceOrig', 'oldbalanceDest', 'newbalanceDest']].corr()\n",
        "\n",
        "print(correlation_matrix)\n",
        "\n",
        "# Analyze the correlation matrix to identify highly correlated variables\n",
        "# High correlation values (close to 1 or -1) indicate a strong linear relationship\n",
        "# You can decide on a threshold for considering variables as highly correlated\n",
        "# (e.g., correlation coefficient > 0.8 or < -0.8)\n",
        "\n",
        "\n",
        "# Calculate Variance Inflation Factor (VIF) to detect multicollinearity\n",
        "\n",
        "from statsmodels.stats.outliers_influence import variance_inflation_factor\n",
        "\n",
        "# Create a subset of the DataFrame with the relevant variables\n",
        "X = df[['oldbalanceOrg', 'newbalanceOrig', 'oldbalanceDest', 'newbalanceDest']]\n",
        "\n",
        "# Calculate VIF for each feature\n",
        "vif_data = pd.DataFrame()\n",
        "vif_data[\"feature\"] = X.columns\n",
        "vif_data[\"VIF\"] = [variance_inflation_factor(X.values, i) for i in range(len(X.columns))]\n",
        "\n",
        "print(vif_data)\n",
        "\n",
        "# Analyze VIF values:\n",
        "# A VIF greater than 5 or 10 indicates a potential multicollinearity issue.\n",
        "\n",
        "# If you identify highly correlated variables using either correlation or VIF:\n",
        "# 1. Remove one of the correlated variables.\n",
        "# 2. Combine the correlated variables (e.g., create a new variable that represents the average or sum).\n",
        "# 3. Use dimensionality reduction techniques like Principal Component Analysis (PCA).\n",
        "\n",
        "# Example: If 'oldbalanceOrg' and 'newbalanceOrig' are highly correlated, you might choose to remove one of them.\n",
        "# df = df.drop('oldbalanceOrg', axis=1)"
      ]
    },
    {
      "cell_type": "markdown",
      "metadata": {
        "id": "tSHUNAnjSS_e"
      },
      "source": [
        "**2 Handling Categorical Data (type column):**\n"
      ]
    },
    {
      "cell_type": "markdown",
      "metadata": {
        "id": "PjKlOWFPTPhV"
      },
      "source": [
        "The type column contains categorical values like \"CASH-IN\", \"CASH-OUT\", etc. we need to convert them into numeric representations:\n",
        "we can use Hot encondin,label enconding etc\n"
      ]
    },
    {
      "cell_type": "code",
      "execution_count": null,
      "metadata": {
        "id": "U5FjAKqyQ1mb"
      },
      "outputs": [],
      "source": [
        "# let's handle the categorical data\n",
        "df = pd.get_dummies(df, columns=['type'], drop_first=True)"
      ]
    },
    {
      "cell_type": "markdown",
      "metadata": {
        "id": "YlLq5WkFV_zU"
      },
      "source": [
        "**Removing irrelevant feature**"
      ]
    },
    {
      "cell_type": "markdown",
      "metadata": {
        "id": "_FuI5AmeVmh5"
      },
      "source": [
        "Some columns might not be useful for the model or could introduce noise. For example, nameOrig and nameDest are identifiers and don’t provide useful information for the prediction:"
      ]
    },
    {
      "cell_type": "code",
      "execution_count": null,
      "metadata": {
        "id": "QLR_Dm4wTu5Q"
      },
      "outputs": [],
      "source": [
        "df = df.drop(['nameOrig', 'nameDest'], axis=1)\n"
      ]
    },
    {
      "cell_type": "markdown",
      "metadata": {
        "id": "1GwHN89PX2N6"
      },
      "source": [
        "Feature Engineering:\n",
        "Creating new features such as balance_delta_orig and balance_delta_dest can provide valuable insights into sudden changes in balances, which are often key indicators of potential fraud\n",
        "\n",
        "we can create features like balance_delta_orig = oldbalanceOrg - newbalanceOrig and balance_delta_dest = oldbalanceDest - newbalanceDest, which measure sudden changes in balances. it can lead over fitting so i am skipping it"
      ]
    },
    {
      "cell_type": "code",
      "execution_count": null,
      "metadata": {
        "id": "gjcFdO_EYp8q"
      },
      "outputs": [],
      "source": [
        "\n",
        "# Feature Engineering:\n",
        "\n",
        "df['balance_delta_orig'] = df['oldbalanceOrg'] - df['newbalanceOrig']\n",
        "df['balance_delta_dest'] = df['oldbalanceDest'] - df['newbalanceDest']"
      ]
    },
    {
      "cell_type": "markdown",
      "metadata": {
        "id": "-zDtbtoxaqSs"
      },
      "source": [
        "Feature Scaling:\n",
        "\n",
        "\n",
        "Since your numerical columns (amount, oldbalanceOrg, newbalanceOrig, etc.) can have widely varying scales, you need to normalize or standardize them. Most models perform better when the features are on a similar scale"
      ]
    },
    {
      "cell_type": "code",
      "execution_count": null,
      "metadata": {
        "colab": {
          "base_uri": "https://localhost:8080/"
        },
        "id": "sl7r9twAjFei",
        "outputId": "34f3c085-c8cf-4e98-a8ac-0f030fb8ea44"
      },
      "outputs": [
        {
          "output_type": "execute_result",
          "data": {
            "text/plain": [
              "Index(['step', 'amount', 'oldbalanceOrg', 'newbalanceOrig', 'oldbalanceDest',\n",
              "       'newbalanceDest', 'isFraud', 'isFlaggedFraud', 'type_CASH_OUT',\n",
              "       'type_DEBIT', 'type_PAYMENT', 'type_TRANSFER', 'balance_delta_orig',\n",
              "       'balance_delta_dest'],\n",
              "      dtype='object')"
            ]
          },
          "metadata": {},
          "execution_count": 23
        }
      ],
      "source": [
        "df.columns"
      ]
    },
    {
      "cell_type": "code",
      "execution_count": null,
      "metadata": {
        "id": "MLsWYtVpXAg_"
      },
      "outputs": [],
      "source": [
        "# let's\n",
        "from sklearn.preprocessing import MinMaxScaler\n",
        "\n",
        "# Assuming 'df' is your DataFrame and you want to scale numerical features\n",
        "numerical_features = ['step', 'amount', 'oldbalanceOrg', 'newbalanceOrig', 'oldbalanceDest',\n",
        "       'newbalanceDest', 'isFraud', 'isFlaggedFraud', 'type_CASH_OUT',\n",
        "       'type_DEBIT', 'type_PAYMENT', 'type_TRANSFER', 'balance_delta_orig',\n",
        "       'balance_delta_dest']\n",
        "\n",
        "# Create a MinMaxScaler object\n",
        "scaler = MinMaxScaler()\n",
        "\n",
        "# Fit and transform the numerical features\n",
        "df[numerical_features] = scaler.fit_transform(df[numerical_features])"
      ]
    },
    {
      "cell_type": "code",
      "execution_count": null,
      "metadata": {
        "colab": {
          "base_uri": "https://localhost:8080/",
          "height": 226
        },
        "id": "aCO2cNt3a1v5",
        "outputId": "6e6ffb24-b994-426c-da0d-f4d91c7956e3"
      },
      "outputs": [
        {
          "output_type": "execute_result",
          "data": {
            "text/plain": [
              "   step    amount  oldbalanceOrg  newbalanceOrig  oldbalanceDest  \\\n",
              "0   0.0  0.000984       0.004369        0.004116        0.000000   \n",
              "1   0.0  0.000186       0.000546        0.000498        0.000000   \n",
              "2   0.0  0.000018       0.000005        0.000000        0.000000   \n",
              "3   0.0  0.000018       0.000005        0.000000        0.000623   \n",
              "4   0.0  0.001167       0.001067        0.000767        0.000000   \n",
              "\n",
              "   newbalanceDest  isFraud  isFlaggedFraud  type_CASH_OUT  type_DEBIT  \\\n",
              "0             0.0      0.0             0.0            0.0         0.0   \n",
              "1             0.0      0.0             0.0            0.0         0.0   \n",
              "2             0.0      1.0             0.0            0.0         0.0   \n",
              "3             0.0      1.0             0.0            1.0         0.0   \n",
              "4             0.0      0.0             0.0            0.0         0.0   \n",
              "\n",
              "   type_PAYMENT  type_TRANSFER  balance_delta_orig  balance_delta_dest  \n",
              "0           1.0            0.0            0.115086            0.748602  \n",
              "1           1.0            0.0            0.114379            0.748602  \n",
              "2           0.0            1.0            0.114230            0.748602  \n",
              "3           0.0            0.0            0.114230            0.749010  \n",
              "4           1.0            0.0            0.115248            0.748602  "
            ],
            "text/html": [
              "\n",
              "  <div id=\"df-60e261bb-a3ef-4821-b6d1-c575cfd2adeb\" class=\"colab-df-container\">\n",
              "    <div>\n",
              "<style scoped>\n",
              "    .dataframe tbody tr th:only-of-type {\n",
              "        vertical-align: middle;\n",
              "    }\n",
              "\n",
              "    .dataframe tbody tr th {\n",
              "        vertical-align: top;\n",
              "    }\n",
              "\n",
              "    .dataframe thead th {\n",
              "        text-align: right;\n",
              "    }\n",
              "</style>\n",
              "<table border=\"1\" class=\"dataframe\">\n",
              "  <thead>\n",
              "    <tr style=\"text-align: right;\">\n",
              "      <th></th>\n",
              "      <th>step</th>\n",
              "      <th>amount</th>\n",
              "      <th>oldbalanceOrg</th>\n",
              "      <th>newbalanceOrig</th>\n",
              "      <th>oldbalanceDest</th>\n",
              "      <th>newbalanceDest</th>\n",
              "      <th>isFraud</th>\n",
              "      <th>isFlaggedFraud</th>\n",
              "      <th>type_CASH_OUT</th>\n",
              "      <th>type_DEBIT</th>\n",
              "      <th>type_PAYMENT</th>\n",
              "      <th>type_TRANSFER</th>\n",
              "      <th>balance_delta_orig</th>\n",
              "      <th>balance_delta_dest</th>\n",
              "    </tr>\n",
              "  </thead>\n",
              "  <tbody>\n",
              "    <tr>\n",
              "      <th>0</th>\n",
              "      <td>0.0</td>\n",
              "      <td>0.000984</td>\n",
              "      <td>0.004369</td>\n",
              "      <td>0.004116</td>\n",
              "      <td>0.000000</td>\n",
              "      <td>0.0</td>\n",
              "      <td>0.0</td>\n",
              "      <td>0.0</td>\n",
              "      <td>0.0</td>\n",
              "      <td>0.0</td>\n",
              "      <td>1.0</td>\n",
              "      <td>0.0</td>\n",
              "      <td>0.115086</td>\n",
              "      <td>0.748602</td>\n",
              "    </tr>\n",
              "    <tr>\n",
              "      <th>1</th>\n",
              "      <td>0.0</td>\n",
              "      <td>0.000186</td>\n",
              "      <td>0.000546</td>\n",
              "      <td>0.000498</td>\n",
              "      <td>0.000000</td>\n",
              "      <td>0.0</td>\n",
              "      <td>0.0</td>\n",
              "      <td>0.0</td>\n",
              "      <td>0.0</td>\n",
              "      <td>0.0</td>\n",
              "      <td>1.0</td>\n",
              "      <td>0.0</td>\n",
              "      <td>0.114379</td>\n",
              "      <td>0.748602</td>\n",
              "    </tr>\n",
              "    <tr>\n",
              "      <th>2</th>\n",
              "      <td>0.0</td>\n",
              "      <td>0.000018</td>\n",
              "      <td>0.000005</td>\n",
              "      <td>0.000000</td>\n",
              "      <td>0.000000</td>\n",
              "      <td>0.0</td>\n",
              "      <td>1.0</td>\n",
              "      <td>0.0</td>\n",
              "      <td>0.0</td>\n",
              "      <td>0.0</td>\n",
              "      <td>0.0</td>\n",
              "      <td>1.0</td>\n",
              "      <td>0.114230</td>\n",
              "      <td>0.748602</td>\n",
              "    </tr>\n",
              "    <tr>\n",
              "      <th>3</th>\n",
              "      <td>0.0</td>\n",
              "      <td>0.000018</td>\n",
              "      <td>0.000005</td>\n",
              "      <td>0.000000</td>\n",
              "      <td>0.000623</td>\n",
              "      <td>0.0</td>\n",
              "      <td>1.0</td>\n",
              "      <td>0.0</td>\n",
              "      <td>1.0</td>\n",
              "      <td>0.0</td>\n",
              "      <td>0.0</td>\n",
              "      <td>0.0</td>\n",
              "      <td>0.114230</td>\n",
              "      <td>0.749010</td>\n",
              "    </tr>\n",
              "    <tr>\n",
              "      <th>4</th>\n",
              "      <td>0.0</td>\n",
              "      <td>0.001167</td>\n",
              "      <td>0.001067</td>\n",
              "      <td>0.000767</td>\n",
              "      <td>0.000000</td>\n",
              "      <td>0.0</td>\n",
              "      <td>0.0</td>\n",
              "      <td>0.0</td>\n",
              "      <td>0.0</td>\n",
              "      <td>0.0</td>\n",
              "      <td>1.0</td>\n",
              "      <td>0.0</td>\n",
              "      <td>0.115248</td>\n",
              "      <td>0.748602</td>\n",
              "    </tr>\n",
              "  </tbody>\n",
              "</table>\n",
              "</div>\n",
              "    <div class=\"colab-df-buttons\">\n",
              "\n",
              "  <div class=\"colab-df-container\">\n",
              "    <button class=\"colab-df-convert\" onclick=\"convertToInteractive('df-60e261bb-a3ef-4821-b6d1-c575cfd2adeb')\"\n",
              "            title=\"Convert this dataframe to an interactive table.\"\n",
              "            style=\"display:none;\">\n",
              "\n",
              "  <svg xmlns=\"http://www.w3.org/2000/svg\" height=\"24px\" viewBox=\"0 -960 960 960\">\n",
              "    <path d=\"M120-120v-720h720v720H120Zm60-500h600v-160H180v160Zm220 220h160v-160H400v160Zm0 220h160v-160H400v160ZM180-400h160v-160H180v160Zm440 0h160v-160H620v160ZM180-180h160v-160H180v160Zm440 0h160v-160H620v160Z\"/>\n",
              "  </svg>\n",
              "    </button>\n",
              "\n",
              "  <style>\n",
              "    .colab-df-container {\n",
              "      display:flex;\n",
              "      gap: 12px;\n",
              "    }\n",
              "\n",
              "    .colab-df-convert {\n",
              "      background-color: #E8F0FE;\n",
              "      border: none;\n",
              "      border-radius: 50%;\n",
              "      cursor: pointer;\n",
              "      display: none;\n",
              "      fill: #1967D2;\n",
              "      height: 32px;\n",
              "      padding: 0 0 0 0;\n",
              "      width: 32px;\n",
              "    }\n",
              "\n",
              "    .colab-df-convert:hover {\n",
              "      background-color: #E2EBFA;\n",
              "      box-shadow: 0px 1px 2px rgba(60, 64, 67, 0.3), 0px 1px 3px 1px rgba(60, 64, 67, 0.15);\n",
              "      fill: #174EA6;\n",
              "    }\n",
              "\n",
              "    .colab-df-buttons div {\n",
              "      margin-bottom: 4px;\n",
              "    }\n",
              "\n",
              "    [theme=dark] .colab-df-convert {\n",
              "      background-color: #3B4455;\n",
              "      fill: #D2E3FC;\n",
              "    }\n",
              "\n",
              "    [theme=dark] .colab-df-convert:hover {\n",
              "      background-color: #434B5C;\n",
              "      box-shadow: 0px 1px 3px 1px rgba(0, 0, 0, 0.15);\n",
              "      filter: drop-shadow(0px 1px 2px rgba(0, 0, 0, 0.3));\n",
              "      fill: #FFFFFF;\n",
              "    }\n",
              "  </style>\n",
              "\n",
              "    <script>\n",
              "      const buttonEl =\n",
              "        document.querySelector('#df-60e261bb-a3ef-4821-b6d1-c575cfd2adeb button.colab-df-convert');\n",
              "      buttonEl.style.display =\n",
              "        google.colab.kernel.accessAllowed ? 'block' : 'none';\n",
              "\n",
              "      async function convertToInteractive(key) {\n",
              "        const element = document.querySelector('#df-60e261bb-a3ef-4821-b6d1-c575cfd2adeb');\n",
              "        const dataTable =\n",
              "          await google.colab.kernel.invokeFunction('convertToInteractive',\n",
              "                                                    [key], {});\n",
              "        if (!dataTable) return;\n",
              "\n",
              "        const docLinkHtml = 'Like what you see? Visit the ' +\n",
              "          '<a target=\"_blank\" href=https://colab.research.google.com/notebooks/data_table.ipynb>data table notebook</a>'\n",
              "          + ' to learn more about interactive tables.';\n",
              "        element.innerHTML = '';\n",
              "        dataTable['output_type'] = 'display_data';\n",
              "        await google.colab.output.renderOutput(dataTable, element);\n",
              "        const docLink = document.createElement('div');\n",
              "        docLink.innerHTML = docLinkHtml;\n",
              "        element.appendChild(docLink);\n",
              "      }\n",
              "    </script>\n",
              "  </div>\n",
              "\n",
              "\n",
              "<div id=\"df-3d8cc29f-1355-4c7a-8cf8-b75e008ae062\">\n",
              "  <button class=\"colab-df-quickchart\" onclick=\"quickchart('df-3d8cc29f-1355-4c7a-8cf8-b75e008ae062')\"\n",
              "            title=\"Suggest charts\"\n",
              "            style=\"display:none;\">\n",
              "\n",
              "<svg xmlns=\"http://www.w3.org/2000/svg\" height=\"24px\"viewBox=\"0 0 24 24\"\n",
              "     width=\"24px\">\n",
              "    <g>\n",
              "        <path d=\"M19 3H5c-1.1 0-2 .9-2 2v14c0 1.1.9 2 2 2h14c1.1 0 2-.9 2-2V5c0-1.1-.9-2-2-2zM9 17H7v-7h2v7zm4 0h-2V7h2v10zm4 0h-2v-4h2v4z\"/>\n",
              "    </g>\n",
              "</svg>\n",
              "  </button>\n",
              "\n",
              "<style>\n",
              "  .colab-df-quickchart {\n",
              "      --bg-color: #E8F0FE;\n",
              "      --fill-color: #1967D2;\n",
              "      --hover-bg-color: #E2EBFA;\n",
              "      --hover-fill-color: #174EA6;\n",
              "      --disabled-fill-color: #AAA;\n",
              "      --disabled-bg-color: #DDD;\n",
              "  }\n",
              "\n",
              "  [theme=dark] .colab-df-quickchart {\n",
              "      --bg-color: #3B4455;\n",
              "      --fill-color: #D2E3FC;\n",
              "      --hover-bg-color: #434B5C;\n",
              "      --hover-fill-color: #FFFFFF;\n",
              "      --disabled-bg-color: #3B4455;\n",
              "      --disabled-fill-color: #666;\n",
              "  }\n",
              "\n",
              "  .colab-df-quickchart {\n",
              "    background-color: var(--bg-color);\n",
              "    border: none;\n",
              "    border-radius: 50%;\n",
              "    cursor: pointer;\n",
              "    display: none;\n",
              "    fill: var(--fill-color);\n",
              "    height: 32px;\n",
              "    padding: 0;\n",
              "    width: 32px;\n",
              "  }\n",
              "\n",
              "  .colab-df-quickchart:hover {\n",
              "    background-color: var(--hover-bg-color);\n",
              "    box-shadow: 0 1px 2px rgba(60, 64, 67, 0.3), 0 1px 3px 1px rgba(60, 64, 67, 0.15);\n",
              "    fill: var(--button-hover-fill-color);\n",
              "  }\n",
              "\n",
              "  .colab-df-quickchart-complete:disabled,\n",
              "  .colab-df-quickchart-complete:disabled:hover {\n",
              "    background-color: var(--disabled-bg-color);\n",
              "    fill: var(--disabled-fill-color);\n",
              "    box-shadow: none;\n",
              "  }\n",
              "\n",
              "  .colab-df-spinner {\n",
              "    border: 2px solid var(--fill-color);\n",
              "    border-color: transparent;\n",
              "    border-bottom-color: var(--fill-color);\n",
              "    animation:\n",
              "      spin 1s steps(1) infinite;\n",
              "  }\n",
              "\n",
              "  @keyframes spin {\n",
              "    0% {\n",
              "      border-color: transparent;\n",
              "      border-bottom-color: var(--fill-color);\n",
              "      border-left-color: var(--fill-color);\n",
              "    }\n",
              "    20% {\n",
              "      border-color: transparent;\n",
              "      border-left-color: var(--fill-color);\n",
              "      border-top-color: var(--fill-color);\n",
              "    }\n",
              "    30% {\n",
              "      border-color: transparent;\n",
              "      border-left-color: var(--fill-color);\n",
              "      border-top-color: var(--fill-color);\n",
              "      border-right-color: var(--fill-color);\n",
              "    }\n",
              "    40% {\n",
              "      border-color: transparent;\n",
              "      border-right-color: var(--fill-color);\n",
              "      border-top-color: var(--fill-color);\n",
              "    }\n",
              "    60% {\n",
              "      border-color: transparent;\n",
              "      border-right-color: var(--fill-color);\n",
              "    }\n",
              "    80% {\n",
              "      border-color: transparent;\n",
              "      border-right-color: var(--fill-color);\n",
              "      border-bottom-color: var(--fill-color);\n",
              "    }\n",
              "    90% {\n",
              "      border-color: transparent;\n",
              "      border-bottom-color: var(--fill-color);\n",
              "    }\n",
              "  }\n",
              "</style>\n",
              "\n",
              "  <script>\n",
              "    async function quickchart(key) {\n",
              "      const quickchartButtonEl =\n",
              "        document.querySelector('#' + key + ' button');\n",
              "      quickchartButtonEl.disabled = true;  // To prevent multiple clicks.\n",
              "      quickchartButtonEl.classList.add('colab-df-spinner');\n",
              "      try {\n",
              "        const charts = await google.colab.kernel.invokeFunction(\n",
              "            'suggestCharts', [key], {});\n",
              "      } catch (error) {\n",
              "        console.error('Error during call to suggestCharts:', error);\n",
              "      }\n",
              "      quickchartButtonEl.classList.remove('colab-df-spinner');\n",
              "      quickchartButtonEl.classList.add('colab-df-quickchart-complete');\n",
              "    }\n",
              "    (() => {\n",
              "      let quickchartButtonEl =\n",
              "        document.querySelector('#df-3d8cc29f-1355-4c7a-8cf8-b75e008ae062 button');\n",
              "      quickchartButtonEl.style.display =\n",
              "        google.colab.kernel.accessAllowed ? 'block' : 'none';\n",
              "    })();\n",
              "  </script>\n",
              "</div>\n",
              "\n",
              "    </div>\n",
              "  </div>\n"
            ],
            "application/vnd.google.colaboratory.intrinsic+json": {
              "type": "dataframe",
              "variable_name": "df"
            }
          },
          "metadata": {},
          "execution_count": 25
        }
      ],
      "source": [
        "df.head()"
      ]
    },
    {
      "cell_type": "markdown",
      "metadata": {
        "id": "wybSoiwfbCr_"
      },
      "source": [
        "Feature Importance from Domain Knowledge:\n",
        "Amount: Larger amounts may be more suspicious.\n",
        "OldbalanceOrig, NewbalanceOrig: Big changes in balance can indicate fraud.\n",
        "Type: Certain transaction types like CASH_OUT or TRANSFER might be more associated with fraud.\n",
        "isFlaggedFraud: Strong predictor for illegal attempts.\n",
        "\n",
        "let's check which feature is important"
      ]
    },
    {
      "cell_type": "code",
      "execution_count": null,
      "metadata": {
        "id": "BBwEho3xbZhI"
      },
      "outputs": [],
      "source": [
        "X=df.drop('isFraud',axis=1)\n",
        "y=df['isFraud']"
      ]
    },
    {
      "cell_type": "code",
      "source": [
        "print(X)"
      ],
      "metadata": {
        "colab": {
          "base_uri": "https://localhost:8080/"
        },
        "id": "aRqPetf7_uAK",
        "outputId": "3bdb5493-b513-4c65-a99f-88d5c413afb6"
      },
      "execution_count": null,
      "outputs": [
        {
          "output_type": "stream",
          "name": "stdout",
          "text": [
            "        step    amount  oldbalanceOrg  newbalanceOrig  oldbalanceDest  \\\n",
            "0        0.0  0.000984       0.004369        0.004116        0.000000   \n",
            "1        0.0  0.000186       0.000546        0.000498        0.000000   \n",
            "2        0.0  0.000018       0.000005        0.000000        0.000000   \n",
            "3        0.0  0.000018       0.000005        0.000000        0.000623   \n",
            "4        0.0  0.001167       0.001067        0.000767        0.000000   \n",
            "...      ...       ...            ...             ...             ...   \n",
            "110807   1.0  0.032782       0.002722        0.011139        0.000448   \n",
            "110808   1.0  0.003663       0.001035        0.000095        0.000000   \n",
            "110809   1.0  0.001951       0.000095        0.000000        0.000000   \n",
            "110810   1.0  0.002121       0.000000        0.000000        0.000000   \n",
            "110811   1.0  0.026649       0.002386        0.000000        0.000000   \n",
            "\n",
            "        newbalanceDest  isFlaggedFraud  type_CASH_OUT  type_DEBIT  \\\n",
            "0             0.000000             0.0            0.0         0.0   \n",
            "1             0.000000             0.0            0.0         0.0   \n",
            "2             0.000000             0.0            0.0         0.0   \n",
            "3             0.000000             0.0            1.0         0.0   \n",
            "4             0.000000             0.0            0.0         0.0   \n",
            "...                ...             ...            ...         ...   \n",
            "110807        0.031334             0.0            0.0         0.0   \n",
            "110808        0.000000             0.0            0.0         0.0   \n",
            "110809        0.000000             0.0            0.0         0.0   \n",
            "110810        0.000000             0.0            0.0         0.0   \n",
            "110811        0.006843             0.0            0.0         0.0   \n",
            "\n",
            "        type_PAYMENT  type_TRANSFER  balance_delta_orig  balance_delta_dest  \n",
            "0                1.0            0.0            0.115086            0.748602  \n",
            "1                1.0            0.0            0.114379            0.748602  \n",
            "2                0.0            1.0            0.114230            0.748602  \n",
            "3                0.0            0.0            0.114230            0.749010  \n",
            "4                1.0            0.0            0.115248            0.748602  \n",
            "...              ...            ...                 ...                 ...  \n",
            "110807           0.0            0.0            0.085176            0.725406  \n",
            "110808           1.0            0.0            0.117459            0.748602  \n",
            "110809           1.0            0.0            0.114540            0.748602  \n",
            "110810           1.0            0.0            0.114214            0.748602  \n",
            "110811           0.0            1.0            0.122442            0.743473  \n",
            "\n",
            "[110812 rows x 13 columns]\n"
          ]
        }
      ]
    },
    {
      "cell_type": "code",
      "execution_count": null,
      "metadata": {
        "colab": {
          "base_uri": "https://localhost:8080/"
        },
        "id": "mikN3PGta3pf",
        "outputId": "5e25682a-ef87-4b93-8631-804f1f7026b5"
      },
      "outputs": [
        {
          "output_type": "execute_result",
          "data": {
            "text/plain": [
              "(110812, 2)"
            ]
          },
          "metadata": {},
          "execution_count": 28
        }
      ],
      "source": [
        "from sklearn.decomposition import PCA\n",
        "pca = PCA(0.8)\n",
        "x_pca = pca.fit_transform(X)\n",
        "x_pca.shape"
      ]
    },
    {
      "cell_type": "code",
      "execution_count": null,
      "metadata": {
        "colab": {
          "base_uri": "https://localhost:8080/"
        },
        "id": "4cdQhe_AmGnO",
        "outputId": "8a974fe4-7afa-4a4b-ebb7-b09337c975da"
      },
      "outputs": [
        {
          "output_type": "execute_result",
          "data": {
            "text/plain": [
              "Index(['step', 'amount', 'oldbalanceOrg', 'newbalanceOrig', 'oldbalanceDest',\n",
              "       'newbalanceDest', 'isFraud', 'isFlaggedFraud', 'type_CASH_OUT',\n",
              "       'type_DEBIT', 'type_PAYMENT', 'type_TRANSFER', 'balance_delta_orig',\n",
              "       'balance_delta_dest'],\n",
              "      dtype='object')"
            ]
          },
          "metadata": {},
          "execution_count": 29
        }
      ],
      "source": [
        "df.columns"
      ]
    },
    {
      "cell_type": "code",
      "execution_count": null,
      "metadata": {
        "id": "mqtSAY3zliBw"
      },
      "outputs": [],
      "source": [
        "# X = df1.drop(['isFraud','oldbalanceOrg', 'newbalanceOrig', 'oldbalanceDest','newbalanceDest'], axis=1)\n",
        "# y = df1['isFraud']\n",
        "# from sklearn.model_selection import train_test_split\n",
        "# X_train, X_test, y_train, y_test = train_test_split(X, y, test_size=0.3, random_state=42)\n",
        "# from sklearn.ensemble import RandomForestClassifier\n",
        "# model = RandomForestClassifier(random_state=42)\n",
        "# model.fit(X_train, y_train)\n",
        "# from sklearn.metrics import classification_report, roc_auc_score, roc_curve\n",
        "# y_pred = model.predict(X_test)\n",
        "# print(classification_report(y_test, y_pred))\n",
        "\n",
        "# auc = roc_auc_score(y_test, model.predict_proba(X_test)[:, 1])\n",
        "# print(f\"AUC: {auc}\")\n"
      ]
    },
    {
      "cell_type": "code",
      "source": [
        "# prompt: use logistic regression with threshold of 0.95\n",
        "\n",
        "from sklearn.linear_model import LogisticRegression\n",
        "\n",
        "# Assuming X and y are defined as in your original code\n",
        "X = df.drop('isFraud', axis=1)\n",
        "y = df['isFraud']\n",
        "\n",
        "# Split data into training and testing sets\n",
        "X_train, X_test, y_train, y_test = train_test_split(X, y, test_size=0.3, random_state=42)\n",
        "\n",
        "# Initialize and train the Logistic Regression model\n",
        "logreg_model = LogisticRegression(random_state=42)\n",
        "logreg_model.fit(X_train, y_train)\n",
        "\n",
        "# Get predicted probabilities\n",
        "y_pred_proba = logreg_model.predict_proba(X_test)[:, 1]\n",
        "\n",
        "# Apply threshold of 0.95\n",
        "y_pred = (y_pred_proba >= 0.60).astype(int)\n",
        "\n",
        "# Evaluate the model with the new threshold\n",
        "print(classification_report(y_test, y_pred))\n",
        "\n",
        "auc = roc_auc_score(y_test, y_pred_proba)\n",
        "print(f\"AUC: {auc}\")"
      ],
      "metadata": {
        "colab": {
          "base_uri": "https://localhost:8080/"
        },
        "id": "D30m4I7uAcfn",
        "outputId": "63e78890-3884-43a2-c078-71dd4813d0d1"
      },
      "execution_count": null,
      "outputs": [
        {
          "output_type": "stream",
          "name": "stdout",
          "text": [
            "              precision    recall  f1-score   support\n",
            "\n",
            "         0.0       1.00      1.00      1.00     33210\n",
            "         1.0       0.00      0.00      0.00        34\n",
            "\n",
            "    accuracy                           1.00     33244\n",
            "   macro avg       0.50      0.50      0.50     33244\n",
            "weighted avg       1.00      1.00      1.00     33244\n",
            "\n",
            "AUC: 0.9445950015055706\n"
          ]
        },
        {
          "output_type": "stream",
          "name": "stderr",
          "text": [
            "/usr/local/lib/python3.10/dist-packages/sklearn/metrics/_classification.py:1531: UndefinedMetricWarning: Precision is ill-defined and being set to 0.0 in labels with no predicted samples. Use `zero_division` parameter to control this behavior.\n",
            "  _warn_prf(average, modifier, f\"{metric.capitalize()} is\", len(result))\n",
            "/usr/local/lib/python3.10/dist-packages/sklearn/metrics/_classification.py:1531: UndefinedMetricWarning: Precision is ill-defined and being set to 0.0 in labels with no predicted samples. Use `zero_division` parameter to control this behavior.\n",
            "  _warn_prf(average, modifier, f\"{metric.capitalize()} is\", len(result))\n",
            "/usr/local/lib/python3.10/dist-packages/sklearn/metrics/_classification.py:1531: UndefinedMetricWarning: Precision is ill-defined and being set to 0.0 in labels with no predicted samples. Use `zero_division` parameter to control this behavior.\n",
            "  _warn_prf(average, modifier, f\"{metric.capitalize()} is\", len(result))\n"
          ]
        }
      ]
    },
    {
      "cell_type": "code",
      "source": [
        "# prompt: draw confusion matrix\n",
        "\n",
        "import matplotlib.pyplot as plt\n",
        "import seaborn as sns\n",
        "from sklearn.metrics import confusion_matrix\n",
        "\n",
        "# Assuming y_test and y_pred are defined from your previous code\n",
        "cm = confusion_matrix(y_test, y_pred)\n",
        "\n",
        "plt.figure(figsize=(8, 6))\n",
        "sns.heatmap(cm, annot=True, fmt='d', cmap='Blues',\n",
        "            xticklabels=['Not Fraud', 'Fraud'],\n",
        "            yticklabels=['Not Fraud', 'Fraud'])\n",
        "plt.xlabel('Predicted')\n",
        "plt.ylabel('Actual')\n",
        "plt.title('Confusion Matrix')\n",
        "plt.show()"
      ],
      "metadata": {
        "colab": {
          "base_uri": "https://localhost:8080/",
          "height": 564
        },
        "id": "xsqjrZLWBtY9",
        "outputId": "420b7a78-4b93-4665-d7a9-a9b0abc16948"
      },
      "execution_count": null,
      "outputs": [
        {
          "output_type": "display_data",
          "data": {
            "text/plain": [
              "<Figure size 800x600 with 2 Axes>"
            ],
            "image/png": "[encoded data removed]"
          },
          "metadata": {}
        }
      ]
    },
    {
      "cell_type": "code",
      "source": [],
      "metadata": {
        "id": "eUF__1w3CpU0"
      },
      "execution_count": null,
      "outputs": []
    },
    {
      "source": [
        "# prompt: plot auc roc curve\n",
        "!pip install matplotlib\n",
        "import matplotlib.pyplot as plt\n",
        "from sklearn.metrics import roc_curve, roc_auc_score  # Import roc_curve\n",
        "\n",
        "# Calculate the ROC curve and AUC\n",
        "fpr, tpr, thresholds = roc_curve(y_test, y_pred_proba)\n",
        "\n",
        "# Plot the ROC curve\n",
        "plt.figure(figsize=(8, 6))\n",
        "plt.plot(fpr, tpr, label=f'AUC = {auc:.2f}')\n",
        "plt.plot([0, 1], [0, 1], 'k--')  # Diagonal line (random classifier)\n",
        "plt.xlabel('False Positive Rate')\n",
        "plt.ylabel('True Positive Rate')\n",
        "plt.title('ROC Curve')\n",
        "plt.legend(loc='lower right')\n",
        "plt.grid(True)\n",
        "plt.show()"
      ],
      "cell_type": "code",
      "metadata": {
        "colab": {
          "base_uri": "https://localhost:8080/",
          "height": 775
        },
        "id": "nyMj8z8mBgVy",
        "outputId": "f276bad4-c866-4bc0-f036-1a2120c6cf81"
      },
      "execution_count": null,
      "outputs": [
        {
          "output_type": "stream",
          "name": "stdout",
          "text": [
            "Requirement already satisfied: matplotlib in /usr/local/lib/python3.10/dist-packages (3.8.0)\n",
            "Requirement already satisfied: contourpy>=1.0.1 in /usr/local/lib/python3.10/dist-packages (from matplotlib) (1.3.1)\n",
            "Requirement already satisfied: cycler>=0.10 in /usr/local/lib/python3.10/dist-packages (from matplotlib) (0.12.1)\n",
            "Requirement already satisfied: fonttools>=4.22.0 in /usr/local/lib/python3.10/dist-packages (from matplotlib) (4.55.0)\n",
            "Requirement already satisfied: kiwisolver>=1.0.1 in /usr/local/lib/python3.10/dist-packages (from matplotlib) (1.4.7)\n",
            "Requirement already satisfied: numpy<2,>=1.21 in /usr/local/lib/python3.10/dist-packages (from matplotlib) (1.26.4)\n",
            "Requirement already satisfied: packaging>=20.0 in /usr/local/lib/python3.10/dist-packages (from matplotlib) (24.2)\n",
            "Requirement already satisfied: pillow>=6.2.0 in /usr/local/lib/python3.10/dist-packages (from matplotlib) (11.0.0)\n",
            "Requirement already satisfied: pyparsing>=2.3.1 in /usr/local/lib/python3.10/dist-packages (from matplotlib) (3.2.0)\n",
            "Requirement already satisfied: python-dateutil>=2.7 in /usr/local/lib/python3.10/dist-packages (from matplotlib) (2.8.2)\n",
            "Requirement already satisfied: six>=1.5 in /usr/local/lib/python3.10/dist-packages (from python-dateutil>=2.7->matplotlib) (1.16.0)\n"
          ]
        },
        {
          "output_type": "display_data",
          "data": {
            "text/plain": [
              "<Figure size 800x600 with 1 Axes>"
            ],
            "image/png": "[encoded data removed]"
          },
          "metadata": {}
        }
      ]
    },
    {
      "cell_type": "code",
      "source": [
        "# prompt: predict new unseen data\n",
        "\n",
        "import numpy as np\n",
        "\n",
        "# Assuming 'logreg_model', 'scaler', and 'df' (with relevant columns) are defined from the previous code\n",
        "\n",
        "# Example of new unseen data (replace with your actual data)\n",
        "new_data = pd.DataFrame({\n",
        "    'step': [100],\n",
        "    'type_CASH_OUT': [0],\n",
        "    'type_DEBIT': [0],\n",
        "    'type_PAYMENT': [0],\n",
        "    'type_TRANSFER': [1],\n",
        "    'amount': [10000],\n",
        "    'oldbalanceOrg': [15000],\n",
        "    'newbalanceOrig': [5000],\n",
        "    'oldbalanceDest': [20000],\n",
        "    'newbalanceDest': [30000],\n",
        "    'isFlaggedFraud': [0],\n",
        "    'balance_delta_orig': [10000],\n",
        "    'balance_delta_dest': [-10000]\n",
        "})\n",
        "\n",
        "\n",
        "# Scale the new data using the same scaler used for training data\n",
        "numerical_features = ['step', 'amount', 'oldbalanceOrg', 'newbalanceOrig', 'oldbalanceDest',\n",
        "       'newbalanceDest', 'isFlaggedFraud', 'type_CASH_OUT',\n",
        "       'type_DEBIT', 'type_PAYMENT', 'type_TRANSFER', 'balance_delta_orig',\n",
        "       'balance_delta_dest']\n",
        "new_data[numerical_features] = scaler.transform(new_data[numerical_features])\n",
        "\n",
        "\n",
        "# Make predictions\n",
        "new_predictions = logreg_model.predict(new_data)\n",
        "new_predictions_proba = logreg_model.predict_proba(new_data)[:,1]\n",
        "\n",
        "print(f\"Predictions: {new_predictions}\")\n",
        "print(f\"Prediction Probabilities: {new_predictions_proba}\")"
      ],
      "metadata": {
        "colab": {
          "base_uri": "https://localhost:8080/",
          "height": 495
        },
        "id": "KrJDyBsbDDmO",
        "outputId": "87d7cc63-9cb4-47e0-a594-99515594a8cc"
      },
      "execution_count": null,
      "outputs": [
        {
          "output_type": "error",
          "ename": "ValueError",
          "evalue": "The feature names should match those that were passed during fit.\nFeature names unseen at fit time:\n- balance_delta_dest\n- isFlaggedFraud\n- newbalanceDest\n- newbalanceOrig\n- oldbalanceDest\n- ...\n",
          "traceback": [
            "\u001b[0;31m---------------------------------------------------------------------------\u001b[0m",
            "\u001b[0;31mValueError\u001b[0m                                Traceback (most recent call last)",
            "\u001b[0;32m<ipython-input-50-2cc9c99e40b1>\u001b[0m in \u001b[0;36m<cell line: 30>\u001b[0;34m()\u001b[0m\n\u001b[1;32m     28\u001b[0m        \u001b[0;34m'type_DEBIT'\u001b[0m\u001b[0;34m,\u001b[0m \u001b[0;34m'type_PAYMENT'\u001b[0m\u001b[0;34m,\u001b[0m \u001b[0;34m'type_TRANSFER'\u001b[0m\u001b[0;34m,\u001b[0m \u001b[0;34m'balance_delta_orig'\u001b[0m\u001b[0;34m,\u001b[0m\u001b[0;34m\u001b[0m\u001b[0;34m\u001b[0m\u001b[0m\n\u001b[1;32m     29\u001b[0m        'balance_delta_dest']\n\u001b[0;32m---> 30\u001b[0;31m \u001b[0mnew_data\u001b[0m\u001b[0;34m[\u001b[0m\u001b[0mnumerical_features\u001b[0m\u001b[0;34m]\u001b[0m \u001b[0;34m=\u001b[0m \u001b[0mscaler\u001b[0m\u001b[0;34m.\u001b[0m\u001b[0mtransform\u001b[0m\u001b[0;34m(\u001b[0m\u001b[0mnew_data\u001b[0m\u001b[0;34m[\u001b[0m\u001b[0mnumerical_features\u001b[0m\u001b[0;34m]\u001b[0m\u001b[0;34m)\u001b[0m\u001b[0;34m\u001b[0m\u001b[0;34m\u001b[0m\u001b[0m\n\u001b[0m\u001b[1;32m     31\u001b[0m \u001b[0;34m\u001b[0m\u001b[0m\n\u001b[1;32m     32\u001b[0m \u001b[0;34m\u001b[0m\u001b[0m\n",
            "\u001b[0;32m/usr/local/lib/python3.10/dist-packages/sklearn/utils/_set_output.py\u001b[0m in \u001b[0;36mwrapped\u001b[0;34m(self, X, *args, **kwargs)\u001b[0m\n\u001b[1;32m    314\u001b[0m     \u001b[0;34m@\u001b[0m\u001b[0mwraps\u001b[0m\u001b[0;34m(\u001b[0m\u001b[0mf\u001b[0m\u001b[0;34m)\u001b[0m\u001b[0;34m\u001b[0m\u001b[0;34m\u001b[0m\u001b[0m\n\u001b[1;32m    315\u001b[0m     \u001b[0;32mdef\u001b[0m \u001b[0mwrapped\u001b[0m\u001b[0;34m(\u001b[0m\u001b[0mself\u001b[0m\u001b[0;34m,\u001b[0m \u001b[0mX\u001b[0m\u001b[0;34m,\u001b[0m \u001b[0;34m*\u001b[0m\u001b[0margs\u001b[0m\u001b[0;34m,\u001b[0m \u001b[0;34m**\u001b[0m\u001b[0mkwargs\u001b[0m\u001b[0;34m)\u001b[0m\u001b[0;34m:\u001b[0m\u001b[0;34m\u001b[0m\u001b[0;34m\u001b[0m\u001b[0m\n\u001b[0;32m--> 316\u001b[0;31m         \u001b[0mdata_to_wrap\u001b[0m \u001b[0;34m=\u001b[0m \u001b[0mf\u001b[0m\u001b[0;34m(\u001b[0m\u001b[0mself\u001b[0m\u001b[0;34m,\u001b[0m \u001b[0mX\u001b[0m\u001b[0;34m,\u001b[0m \u001b[0;34m*\u001b[0m\u001b[0margs\u001b[0m\u001b[0;34m,\u001b[0m \u001b[0;34m**\u001b[0m\u001b[0mkwargs\u001b[0m\u001b[0;34m)\u001b[0m\u001b[0;34m\u001b[0m\u001b[0;34m\u001b[0m\u001b[0m\n\u001b[0m\u001b[1;32m    317\u001b[0m         \u001b[0;32mif\u001b[0m \u001b[0misinstance\u001b[0m\u001b[0;34m(\u001b[0m\u001b[0mdata_to_wrap\u001b[0m\u001b[0;34m,\u001b[0m \u001b[0mtuple\u001b[0m\u001b[0;34m)\u001b[0m\u001b[0;34m:\u001b[0m\u001b[0;34m\u001b[0m\u001b[0;34m\u001b[0m\u001b[0m\n\u001b[1;32m    318\u001b[0m             \u001b[0;31m# only wrap the first output for cross decomposition\u001b[0m\u001b[0;34m\u001b[0m\u001b[0;34m\u001b[0m\u001b[0m\n",
            "\u001b[0;32m/usr/local/lib/python3.10/dist-packages/sklearn/preprocessing/_data.py\u001b[0m in \u001b[0;36mtransform\u001b[0;34m(self, X, copy)\u001b[0m\n\u001b[1;32m   1043\u001b[0m \u001b[0;34m\u001b[0m\u001b[0m\n\u001b[1;32m   1044\u001b[0m         \u001b[0mcopy\u001b[0m \u001b[0;34m=\u001b[0m \u001b[0mcopy\u001b[0m \u001b[0;32mif\u001b[0m \u001b[0mcopy\u001b[0m \u001b[0;32mis\u001b[0m \u001b[0;32mnot\u001b[0m \u001b[0;32mNone\u001b[0m \u001b[0;32melse\u001b[0m \u001b[0mself\u001b[0m\u001b[0;34m.\u001b[0m\u001b[0mcopy\u001b[0m\u001b[0;34m\u001b[0m\u001b[0;34m\u001b[0m\u001b[0m\n\u001b[0;32m-> 1045\u001b[0;31m         X = self._validate_data(\n\u001b[0m\u001b[1;32m   1046\u001b[0m             \u001b[0mX\u001b[0m\u001b[0;34m,\u001b[0m\u001b[0;34m\u001b[0m\u001b[0;34m\u001b[0m\u001b[0m\n\u001b[1;32m   1047\u001b[0m             \u001b[0mreset\u001b[0m\u001b[0;34m=\u001b[0m\u001b[0;32mFalse\u001b[0m\u001b[0;34m,\u001b[0m\u001b[0;34m\u001b[0m\u001b[0;34m\u001b[0m\u001b[0m\n",
            "\u001b[0;32m/usr/local/lib/python3.10/dist-packages/sklearn/base.py\u001b[0m in \u001b[0;36m_validate_data\u001b[0;34m(self, X, y, reset, validate_separately, cast_to_ndarray, **check_params)\u001b[0m\n\u001b[1;32m    606\u001b[0m             \u001b[0mvalidated\u001b[0m\u001b[0;34m.\u001b[0m\u001b[0;34m\u001b[0m\u001b[0;34m\u001b[0m\u001b[0m\n\u001b[1;32m    607\u001b[0m         \"\"\"\n\u001b[0;32m--> 608\u001b[0;31m         \u001b[0mself\u001b[0m\u001b[0;34m.\u001b[0m\u001b[0m_check_feature_names\u001b[0m\u001b[0;34m(\u001b[0m\u001b[0mX\u001b[0m\u001b[0;34m,\u001b[0m \u001b[0mreset\u001b[0m\u001b[0;34m=\u001b[0m\u001b[0mreset\u001b[0m\u001b[0;34m)\u001b[0m\u001b[0;34m\u001b[0m\u001b[0;34m\u001b[0m\u001b[0m\n\u001b[0m\u001b[1;32m    609\u001b[0m \u001b[0;34m\u001b[0m\u001b[0m\n\u001b[1;32m    610\u001b[0m         \u001b[0;32mif\u001b[0m \u001b[0my\u001b[0m \u001b[0;32mis\u001b[0m \u001b[0;32mNone\u001b[0m \u001b[0;32mand\u001b[0m \u001b[0mself\u001b[0m\u001b[0;34m.\u001b[0m\u001b[0m_get_tags\u001b[0m\u001b[0;34m(\u001b[0m\u001b[0;34m)\u001b[0m\u001b[0;34m[\u001b[0m\u001b[0;34m\"requires_y\"\u001b[0m\u001b[0;34m]\u001b[0m\u001b[0;34m:\u001b[0m\u001b[0;34m\u001b[0m\u001b[0;34m\u001b[0m\u001b[0m\n",
            "\u001b[0;32m/usr/local/lib/python3.10/dist-packages/sklearn/base.py\u001b[0m in \u001b[0;36m_check_feature_names\u001b[0;34m(self, X, reset)\u001b[0m\n\u001b[1;32m    533\u001b[0m                 )\n\u001b[1;32m    534\u001b[0m \u001b[0;34m\u001b[0m\u001b[0m\n\u001b[0;32m--> 535\u001b[0;31m             \u001b[0;32mraise\u001b[0m \u001b[0mValueError\u001b[0m\u001b[0;34m(\u001b[0m\u001b[0mmessage\u001b[0m\u001b[0;34m)\u001b[0m\u001b[0;34m\u001b[0m\u001b[0;34m\u001b[0m\u001b[0m\n\u001b[0m\u001b[1;32m    536\u001b[0m \u001b[0;34m\u001b[0m\u001b[0m\n\u001b[1;32m    537\u001b[0m     def _validate_data(\n",
            "\u001b[0;31mValueError\u001b[0m: The feature names should match those that were passed during fit.\nFeature names unseen at fit time:\n- balance_delta_dest\n- isFlaggedFraud\n- newbalanceDest\n- newbalanceOrig\n- oldbalanceDest\n- ...\n"
          ]
        }
      ]
    },
    {
      "cell_type": "code",
      "source": [
        "# prompt: binary number\n",
        "\n",
        "# Assuming 'logreg_model', 'scaler', and 'df' (with relevant columns) are defined from the previous code\n",
        "\n",
        "# Example of new unseen data (replace with your actual data)\n",
        "new_data = pd.DataFrame({\n",
        "    'step': [100],\n",
        "    'type_CASH_OUT': [0],\n",
        "    'type_DEBIT': [0],\n",
        "    'type_PAYMENT': [0],\n",
        "    'type_TRANSFER': [1],\n",
        "    'amount': [10000],\n",
        "    'oldbalanceOrg': [15000],\n",
        "    'newbalanceOrig': [5000],\n",
        "    'oldbalanceDest': [20000],\n",
        "    'newbalanceDest': [30000],\n",
        "    'isFlaggedFraud': [0],\n",
        "    'balance_delta_orig': [10000],\n",
        "    'balance_delta_dest': [-10000]\n",
        "})\n",
        "\n",
        "\n",
        "# Scale the new data using the same scaler used for training data\n",
        "numerical_features = ['step', 'amount', 'oldbalanceOrg', 'newbalanceOrig', 'oldbalanceDest',\n",
        "       'newbalanceDest', 'isFlaggedFraud', 'type_CASH_OUT',\n",
        "       'type_DEBIT', 'type_PAYMENT', 'type_TRANSFER', 'balance_delta_orig',\n",
        "       'balance_delta_dest']\n",
        "new_data[numerical_features] = scaler.transform(new_data[numerical_features])\n",
        "\n",
        "\n",
        "# Make predictions\n",
        "new_predictions = logreg_model.predict(new_data)\n",
        "new_predictions_proba = logreg_model.predict_proba(new_data)[:,1]\n",
        "\n",
        "print(f\"Predictions: {new_predictions}\")\n",
        "print(f\"Prediction Probabilities: {new_predictions_proba}\")"
      ],
      "metadata": {
        "id": "4FtBN0UN1mf6"
      },
      "execution_count": null,
      "outputs": []
    },
    {
      "source": [
        "new_data = new_data.reindex(columns=X_train.columns, fill_value=0)"
      ],
      "cell_type": "code",
      "metadata": {
        "id": "ZiapkyDADwpD"
      },
      "execution_count": null,
      "outputs": []
    },
    {
      "source": [
        "# Assuming 'logreg_model', 'scaler', and 'df' (with relevant columns) are defined from the previous code\n",
        "\n",
        "# Example of new unseen data (replace with your actual data)\n",
        "new_data = pd.DataFrame({\n",
        "    'step': [100],\n",
        "    'type_CASH_OUT': [0],\n",
        "    'type_DEBIT': [0],\n",
        "    'type_PAYMENT': [0],\n",
        "    'type_TRANSFER': [1],\n",
        "    'amount': [10000],\n",
        "    'oldbalanceOrg': [15000],\n",
        "    'newbalanceOrig': [5000],\n",
        "    'oldbalanceDest': [20000],\n",
        "    'newbalanceDest': [30000],\n",
        "    'isFlaggedFraud': [0],\n",
        "    'balance_delta_orig': [10000],\n",
        "    'balance_delta_dest': [-10000]\n",
        "}, index=[0]) # Adding index to the DataFrame\n",
        "\n",
        "\n",
        "# Ensure the new data has the same columns as the training"
      ],
      "cell_type": "code",
      "metadata": {
        "id": "3Jybhs8WDit9"
      },
      "execution_count": null,
      "outputs": []
    },
    {
      "cell_type": "code",
      "source": [
        "# prompt: feature important\n",
        "\n",
        "# Assuming 'logreg_model' is your trained Logistic Regression model and 'X' is your feature matrix\n",
        "feature_importances = logreg_model.coef_[0]\n",
        "\n",
        "# Create a DataFrame for better visualization\n",
        "feature_importance_df = pd.DataFrame({'Feature': X.columns, 'Importance': feature_importances})\n",
        "\n",
        "# Sort by importance\n",
        "feature_importance_df = feature_importance_df.sort_values(by='Importance', ascending=False)\n",
        "\n",
        "# Print or visualize the feature importances\n",
        "print(feature_importance_df)\n",
        "\n",
        "# You can also visualize the feature importances using a bar plot\n",
        "plt.figure(figsize=(10, 6))\n",
        "plt.barh(feature_importance_df['Feature'], feature_importance_df['Importance'])\n",
        "plt.xlabel('Importance')\n",
        "plt.ylabel('Feature')\n",
        "plt.title('Feature Importance')\n",
        "plt.show()"
      ],
      "metadata": {
        "colab": {
          "base_uri": "https://localhost:8080/",
          "height": 655
        },
        "id": "GhfbC_P2FR0Q",
        "outputId": "b1e9113e-991b-4f56-e3cc-b409bf47596c"
      },
      "execution_count": null,
      "outputs": [
        {
          "output_type": "stream",
          "name": "stdout",
          "text": [
            "               Feature  Importance\n",
            "10       type_TRANSFER    2.441836\n",
            "7        type_CASH_OUT    1.772060\n",
            "11  balance_delta_orig    0.631861\n",
            "1               amount    0.480393\n",
            "6       isFlaggedFraud    0.000000\n",
            "2        oldbalanceOrg   -0.164522\n",
            "8           type_DEBIT   -0.342736\n",
            "3       newbalanceOrig   -0.445123\n",
            "4       oldbalanceDest   -0.655815\n",
            "5       newbalanceDest   -0.679046\n",
            "12  balance_delta_dest   -2.124221\n",
            "9         type_PAYMENT   -2.606644\n",
            "0                 step   -4.008865\n"
          ]
        },
        {
          "output_type": "display_data",
          "data": {
            "text/plain": [
              "<Figure size 1000x600 with 1 Axes>"
            ],
            "image/png": "[encoded data removed]"
          },
          "metadata": {}
        }
      ]
    },
    {
      "cell_type": "code",
      "execution_count": null,
      "metadata": {
        "id": "FsznxJh2wPvJ"
      },
      "outputs": [],
      "source": [
        "# df.columns"
      ]
    },
    {
      "cell_type": "code",
      "execution_count": null,
      "metadata": {
        "id": "sE8RZGBiwe_o"
      },
      "outputs": [],
      "source": [
        "# df=df.drop(['oldbalanceOrg', 'newbalanceOrig', 'oldbalanceDest','newbalanceDest',],axis=1)"
      ]
    },
    {
      "cell_type": "code",
      "execution_count": null,
      "metadata": {
        "id": "-wPpqb5iw7Kb"
      },
      "outputs": [],
      "source": [
        "# df.columns"
      ]
    },
    {
      "cell_type": "markdown",
      "source": [],
      "metadata": {
        "id": "_oV62PzBGQTH"
      }
    },
    {
      "cell_type": "code",
      "source": [
        "# import numpy as np\n",
        "# import matplotlib.pyplot as plt\n",
        "# from sklearn.preprocessing import StandardScaler\n",
        "\n",
        "# # Select two features for 2D visualization\n",
        "# X_train_2d = X_train[['amount', 'balance_delta_orig']].copy()\n",
        "# X_test_2d = X_test[['amount', 'balance_delta_orig']].copy()\n",
        "\n",
        "# # Standardizing the data for better visualization (optional)\n",
        "# scaler = StandardScaler()\n",
        "# X_train_2d_scaled = scaler.fit_transform(X_train_2d)\n",
        "# X_test_2d_scaled = scaler.transform(X_test_2d)\n",
        "\n",
        "# # Train the logistic regression model on these two features\n",
        "# model_2d = LogisticRegression(class_weight={0: 0.30, 1: 1}, solver='liblinear')\n",
        "# model_2d.fit(X_train_2d_scaled, y_train)\n",
        "\n",
        "# # Create a mesh grid over the feature space\n",
        "# x_min, x_max = X_train_2d_scaled[:, 0].min() - 1, X_train_2d_scaled[:, 0].max() + 1\n",
        "# y_min, y_max = X_train_2d_scaled[:, 1].min() - 1, X_train_2d_scaled[:, 1].max() + 1\n",
        "# xx, yy = np.meshgrid(np.arange(x_min, x_max, 0.1),\n",
        "#                      np.arange(y_min, y_max, 0.1))\n",
        "\n",
        "# # Predict over the mesh grid\n",
        "# Z = model_2d.predict(np.c_[xx.ravel(), yy.ravel()])\n",
        "# Z = Z.reshape(xx.shape)\n",
        "\n",
        "# auc = roc_auc_score(y_test, model.predict_proba(X_test)[:, 1])\n",
        "# print(f\"AUC: {auc}\")\n",
        "\n",
        "# # Plot the decision boundary and data points\n",
        "# plt.contourf(xx, yy, Z, alpha=0.8, cmap=plt.cm.RdYlBu)\n",
        "# plt.scatter(X_train_2d_scaled[:, 0], X_train_2d_scaled[:, 1], c=y_train, edgecolors='k', marker='o', s=20, cmap=plt.cm.RdYlBu)\n",
        "# plt.title('Logistic Regression Decision Boundary')\n",
        "# plt.xlabel('Amount (scaled)')\n",
        "# plt.ylabel('Balance Delta Origin (scaled)')\n",
        "# plt.show()\n"
      ],
      "metadata": {
        "id": "p3KF0_xZ5w7B"
      },
      "execution_count": null,
      "outputs": []
    },
    {
      "cell_type": "code",
      "source": [
        "# # prompt: check precison and recall ot the logistic regression model on these two features\n",
        "\n",
        "# from sklearn.linear_model import LogisticRegression\n",
        "# from sklearn.metrics import precision_score, recall_score\n",
        "\n",
        "# # Assuming X_test_2d_scaled and y_test are defined\n",
        "\n",
        "# # Make predictions on the test set\n",
        "# y_pred_2d = model_2d.predict(X_test_2d_scaled)\n",
        "\n",
        "# # Calculate precision and recall\n",
        "# precision = precision_score(y_test, y_pred_2d)\n",
        "# recall = recall_score(y_test, y_pred_2d)\n",
        "\n",
        "# print(f\"Precision: {precision}\")\n",
        "# print(f\"Recall: {recall}\")"
      ],
      "metadata": {
        "id": "yjvgw1wOCply"
      },
      "execution_count": null,
      "outputs": []
    },
    {
      "cell_type": "code",
      "source": [
        "# prompt: comfusion matrix and plot what 0 and 1 represent\n",
        "\n",
        "# from sklearn.metrics import confusion_matrix\n",
        "# import matplotlib.pyplot as plt\n",
        "# import seaborn as sns\n",
        "\n",
        "# # Assuming y_test and y_pred are your true and predicted labels\n",
        "# # Replace these with your actual variables\n",
        "\n",
        "# # Calculate the confusion matrix\n",
        "# cm = confusion_matrix(y_test, y_pred)\n",
        "\n",
        "# # Plot the confusion matrix using seaborn\n",
        "# plt.figure(figsize=(8, 6))\n",
        "# sns.heatmap(cm, annot=True, fmt='d', cmap='Blues',\n",
        "#             xticklabels=['Not Fraud (0)', 'Fraud (1)'],\n",
        "#             yticklabels=['Not Fraud (0)', 'Fraud (1)'])\n",
        "# plt.xlabel('Predicted Label')\n",
        "# plt.ylabel('True Label')\n",
        "# plt.title('Confusion Matrix')\n",
        "# plt.show()"
      ],
      "metadata": {
        "id": "LjGg01anC8_O"
      },
      "execution_count": null,
      "outputs": []
    },
    {
      "source": [
        "# # prompt: use logistic regression\n",
        "\n",
        "# # Use a list of column names to select the desired features\n",
        "# X = df[['step', 'amount', 'isFlaggedFraud', 'type_CASH_OUT',\n",
        "#        'type_DEBIT', 'type_PAYMENT', 'type_TRANSFER', 'balance_delta_orig',\n",
        "#        'balance_delta_dest']]  # Changed to a list of column names\n",
        "# y = df['isFraud']\n",
        "\n",
        "# # ... rest of the code remains the same ..."
      ],
      "cell_type": "code",
      "metadata": {
        "id": "XH4783bjd8VI"
      },
      "execution_count": null,
      "outputs": []
    },
    {
      "cell_type": "code",
      "source": [],
      "metadata": {
        "id": "whNxqpEK68Ww"
      },
      "execution_count": null,
      "outputs": []
    },
    {
      "cell_type": "code",
      "source": [
        "\n",
        "# import xgboost as xgb\n",
        "# from sklearn.metrics import accuracy_score\n",
        "\n",
        "# # Assuming X_train, X_test, y_train, y_test are already defined\n",
        "\n",
        "# # Create and train the XGBoost model\n",
        "# xgb_model = xgb.XGBClassifier(random_state=42)\n",
        "# xgb_model.fit(X_train, y_train)\n",
        "\n",
        "# # Make predictions on the test set\n",
        "# y_pred_xgb = xgb_model.predict(X_test)\n",
        "\n",
        "# # Evaluate the model\n",
        "# print(classification_report(y_test, y_pred_xgb))\n",
        "\n",
        "# # Calculate AUC\n",
        "# auc_xgb = roc_auc_score(y_test, xgb_model.predict_proba(X_test)[:, 1])\n",
        "# print(f\"AUC (XGBoost): {auc_xgb}\")\n",
        "\n",
        "# # Calculate accuracy\n",
        "# accuracy_xgb = accuracy_score(y_test, y_pred_xgb)\n",
        "# print(f\"Accuracy (XGBoost): {accuracy_xgb}\")\n",
        "\n",
        "# # Confusion matrix\n",
        "# cm_xgb = confusion_matrix(y_test, y_pred_xgb)\n",
        "# plt.figure(figsize=(8, 6))\n",
        "# sns.heatmap(cm_xgb, annot=True, fmt='d', cmap='Blues', cbar=False)\n",
        "# plt.xlabel('Predicted')\n",
        "# plt.ylabel('Actual')\n",
        "# plt.title('Confusion Matrix (XGBoost)')\n",
        "# plt.show()"
      ],
      "metadata": {
        "id": "2tqCEQotdRaZ"
      },
      "execution_count": null,
      "outputs": []
    },
    {
      "cell_type": "code",
      "source": [
        "# Selecting features and target variable\n",
        "X = df.drop(columns=['isFraud'])  # drop target variable\n",
        "y = df['isFraud']  # target variable\n",
        "\n",
        "# Convert categorical variables to dummy/one-hot encoding\n",
        "X = pd.get_dummies(X, drop_first=True)\n",
        "\n",
        "# Split the data into training and testing sets\n",
        "X_train, X_test, y_train, y_test = train_test_split(X, y, test_size=0.2, random_state=42)\n"
      ],
      "metadata": {
        "id": "dakt8CsedfNf"
      },
      "execution_count": null,
      "outputs": []
    },
    {
      "cell_type": "code",
      "source": [
        "# Importing necessary libraries\n",
        "from imblearn.over_sampling import SMOTE\n",
        "from imblearn.ensemble import BalancedRandomForestClassifier\n",
        "from sklearn.model_selection import train_test_split\n",
        "from sklearn.metrics import classification_report\n",
        "\n",
        "# Split dataset into training and testing sets\n",
        "X_train, X_test, y_train, y_test = train_test_split(X, y, test_size=0.2, random_state=42)\n",
        "\n",
        "# Applying SMOTE to handle class imbalance\n",
        "smote = SMOTE(random_state=42)\n",
        "X_train_smote, y_train_smote = smote.fit_resample(X_train, y_train)\n",
        "\n",
        "# Initialize the Balanced Random Forest Classifier\n",
        "classifier = BalancedRandomForestClassifier(random_state=42)\n",
        "\n",
        "# Train the classifier on the SMOTE data\n",
        "classifier.fit(X_train_smote, y_train_smote)\n",
        "\n",
        "# Predict on the test set\n",
        "y_pred_brf = classifier.predict(X_test)\n",
        "y_proba_brf = classifier.predict_proba(X_test)[:, 1]\n",
        "\n",
        "# Print classification report for the predictions made on the SMOTE data\n",
        "print(\"Classification Report (With SMOTE):\")\n",
        "print(classification_report(y_test, y_pred_brf))\n"
      ],
      "metadata": {
        "id": "IscwRDh7i-Uh",
        "colab": {
          "base_uri": "https://localhost:8080/"
        },
        "outputId": "b59bef45-b3c9-4576-83a1-c78b58a26ec7"
      },
      "execution_count": null,
      "outputs": [
        {
          "output_type": "stream",
          "name": "stderr",
          "text": [
            "/usr/local/lib/python3.10/dist-packages/imblearn/ensemble/_forest.py:577: FutureWarning: The default of `sampling_strategy` will change from `'auto'` to `'all'` in version 0.13. This change will follow the implementation proposed in the original paper. Set to `'all'` to silence this warning and adopt the future behaviour.\n",
            "  warn(\n",
            "/usr/local/lib/python3.10/dist-packages/imblearn/ensemble/_forest.py:589: FutureWarning: The default of `replacement` will change from `False` to `True` in version 0.13. This change will follow the implementation proposed in the original paper. Set to `True` to silence this warning and adopt the future behaviour.\n",
            "  warn(\n",
            "/usr/local/lib/python3.10/dist-packages/imblearn/ensemble/_forest.py:601: FutureWarning: The default of `bootstrap` will change from `True` to `False` in version 0.13. This change will follow the implementation proposed in the original paper. Set to `False` to silence this warning and adopt the future behaviour.\n",
            "  warn(\n"
          ]
        },
        {
          "output_type": "stream",
          "name": "stdout",
          "text": [
            "Classification Report (With SMOTE):\n",
            "              precision    recall  f1-score   support\n",
            "\n",
            "         0.0       1.00      1.00      1.00     22145\n",
            "         1.0       0.19      0.83      0.31        18\n",
            "\n",
            "    accuracy                           1.00     22163\n",
            "   macro avg       0.60      0.92      0.66     22163\n",
            "weighted avg       1.00      1.00      1.00     22163\n",
            "\n"
          ]
        }
      ]
    },
    {
      "cell_type": "code",
      "source": [
        "print(\"HOC AUC Score (With SMOTE):\", roc_auc_score(y_test, y_proba_brf))"
      ],
      "metadata": {
        "id": "RMD2HkmM7Ysn",
        "colab": {
          "base_uri": "https://localhost:8080/"
        },
        "outputId": "30f4245c-95c9-44cd-dfe2-934008ceb64e"
      },
      "execution_count": null,
      "outputs": [
        {
          "output_type": "stream",
          "name": "stdout",
          "text": [
            "HOC AUC Score (With SMOTE): 0.9984195077895687\n"
          ]
        }
      ]
    },
    {
      "cell_type": "code",
      "source": [
        "# prompt: create outlier free data frame and remove outlier in it\n",
        "\n",
        "# Assuming 'df' is your DataFrame\n",
        "def remove_outliers_iqr(df, columns, factor=1.5):\n",
        "  \"\"\"\n",
        "  Removes outliers from a DataFrame using the Interquartile Range (IQR) method.\n",
        "\n",
        "  Args:\n",
        "    df: The DataFrame.\n",
        "    columns: A list of column names to check for outliers.\n",
        "    factor: The IQR multiplier for outlier detection (default is 1.5).\n",
        "\n",
        "  Returns:\n",
        "    A new DataFrame with outliers removed.\n",
        "  \"\"\"\n",
        "\n",
        "  df_outlier_free = df.copy()\n",
        "  for column in columns:\n",
        "    Q1 = df_outlier_free[column].quantile(0.25)\n",
        "    Q3 = df_outlier_free[column].quantile(0.75)\n",
        "    IQR = Q3 - Q1\n",
        "    lower_bound = Q1 - factor * IQR\n",
        "    upper_bound = Q3 + factor * IQR\n",
        "    df_outlier_free = df_outlier_free[\n",
        "        (df_outlier_free[column] >= lower_bound) & (df_outlier_free[column] <= upper_bound)\n",
        "    ]\n",
        "  return df_outlier_free\n",
        "\n",
        "# Example usage:\n",
        "columns_to_check = ['amount', 'oldbalanceOrg', 'newbalanceOrig']\n",
        "df_no_outliers = remove_outliers_iqr(df, columns_to_check)\n",
        "\n",
        "# Now df_no_outliers contains the data with outliers removed from the specified columns."
      ],
      "metadata": {
        "id": "bFAZg2KCGl_E"
      },
      "execution_count": null,
      "outputs": []
    },
    {
      "cell_type": "code",
      "source": [],
      "metadata": {
        "id": "a7EzOEyIBxIH"
      },
      "execution_count": null,
      "outputs": []
    },
    {
      "cell_type": "code",
      "source": [
        "import matplotlib.pyplot as plt\n",
        "from sklearn.metrics import roc_auc_score, roc_curve\n",
        "\n",
        "# Calculate the ROC curve points\n",
        "fpr, tpr, thresholds = roc_curve(y_test, y_proba_brf)\n",
        "\n",
        "# Calculate the AUC score\n",
        "auc_score = roc_auc_score(y_test, y_proba_brf)\n",
        "\n",
        "# Plot the ROC curve\n",
        "plt.figure(figsize=(8, 6))\n",
        "plt.plot(fpr, tpr, color='darkorange', lw=2, label=f'ROC curve (AUC = {auc_score:.2f})')\n",
        "plt.plot([0, 1], [0, 1], color='navy', lw=2, linestyle='--')  # Plotting a diagonal line for reference\n",
        "plt.xlim([0.0, 1.0])\n",
        "plt.ylim([0.0, 1.05])\n",
        "plt.xlabel('False Positive Rate (FPR)')\n",
        "plt.ylabel('True Positive Rate (TPR)')\n",
        "plt.title('ROC Curve for Balanced Random Forest (with SMOTE)')\n",
        "plt.legend(loc='lower right')\n",
        "plt.show()\n"
      ],
      "metadata": {
        "id": "Ii5nfazq7k_w",
        "colab": {
          "base_uri": "https://localhost:8080/",
          "height": 556
        },
        "outputId": "e86b7796-ab84-4580-ca3b-a30607d24e1e"
      },
      "execution_count": null,
      "outputs": [
        {
          "output_type": "display_data",
          "data": {
            "text/plain": [
              "<Figure size 800x600 with 1 Axes>"
            ],
            "image/png": "[encoded data removed]"
          },
          "metadata": {}
        }
      ]
    },
    {
      "cell_type": "code",
      "source": [
        "import numpy as np\n",
        "import matplotlib.pyplot as plt\n",
        "from sklearn.preprocessing import StandardScaler\n",
        "\n",
        "# Select two features for 2D visualization\n",
        "X_train_2d = X_train_smote[['amount', 'balance_delta_orig']]\n",
        "X_test_2d = X_test[['amount', 'balance_delta_orig']]\n",
        "\n",
        "# Standardize the features\n",
        "scaler = StandardScaler()\n",
        "X_train_2d_scaled = scaler.fit_transform(X_train_2d)\n",
        "X_test_2d_scaled = scaler.transform(X_test_2d)\n",
        "\n",
        "# Train the Balanced Random Forest Classifier on these two features\n",
        "classifier_2d = BalancedRandomForestClassifier(random_state=42)\n",
        "classifier_2d.fit(X_train_2d_scaled, y_train_smote)\n",
        "\n",
        "# Create a mesh grid for plotting decision boundary\n",
        "x_min, x_max = X_train_2d_scaled[:, 0].min() - 1, X_train_2d_scaled[:, 0].max() + 1\n",
        "y_min, y_max = X_train_2d_scaled[:, 1].min() - 1, X_train_2d_scaled[:, 1].max() + 1\n",
        "xx, yy = np.meshgrid(np.arange(x_min, x_max, 0.1), np.arange(y_min, y_max, 0.1))\n",
        "\n",
        "# Predict over the mesh grid\n",
        "Z = classifier_2d.predict(np.c_[xx.ravel(), yy.ravel()])\n",
        "Z = Z.reshape(xx.shape)\n",
        "\n",
        "# Plot the decision boundary\n",
        "plt.contourf(xx, yy, Z, alpha=0.8, cmap=plt.cm.RdYlBu)\n",
        "\n",
        "# Scatter plot the data points\n",
        "plt.scatter(X_train_2d_scaled[:, 0], X_train_2d_scaled[:, 1], c=y_train_smote, edgecolors='k', marker='o', cmap=plt.cm.RdYlBu)\n",
        "plt.title('Decision Boundary for Balanced Random Forest (with SMOTE)')\n",
        "plt.xlabel('Amount (scaled)')\n",
        "plt.ylabel('Balance Delta Origin (scaled)')\n",
        "plt.show()\n"
      ],
      "metadata": {
        "id": "ThG23bbn75DE",
        "colab": {
          "base_uri": "https://localhost:8080/",
          "height": 596
        },
        "outputId": "9c20ecbe-8c85-4169-ad9e-20ec9912d1db"
      },
      "execution_count": null,
      "outputs": [
        {
          "output_type": "stream",
          "name": "stderr",
          "text": [
            "/usr/local/lib/python3.10/dist-packages/imblearn/ensemble/_forest.py:577: FutureWarning: The default of `sampling_strategy` will change from `'auto'` to `'all'` in version 0.13. This change will follow the implementation proposed in the original paper. Set to `'all'` to silence this warning and adopt the future behaviour.\n",
            "  warn(\n",
            "/usr/local/lib/python3.10/dist-packages/imblearn/ensemble/_forest.py:589: FutureWarning: The default of `replacement` will change from `False` to `True` in version 0.13. This change will follow the implementation proposed in the original paper. Set to `True` to silence this warning and adopt the future behaviour.\n",
            "  warn(\n",
            "/usr/local/lib/python3.10/dist-packages/imblearn/ensemble/_forest.py:601: FutureWarning: The default of `bootstrap` will change from `True` to `False` in version 0.13. This change will follow the implementation proposed in the original paper. Set to `False` to silence this warning and adopt the future behaviour.\n",
            "  warn(\n"
          ]
        },
        {
          "output_type": "display_data",
          "data": {
            "text/plain": [
              "<Figure size 640x480 with 1 Axes>"
            ],
            "image/png": "[encoded data removed]"
          },
          "metadata": {}
        }
      ]
    }
  ],
  "metadata": {
    "colab": {
      "provenance": []
    },
    "kernelspec": {
      "display_name": "Python 3",
      "name": "python3"
    },
    "language_info": {
      "name": "python"
    }
  },
  "nbformat": 4,
  "nbformat_minor": 0
}